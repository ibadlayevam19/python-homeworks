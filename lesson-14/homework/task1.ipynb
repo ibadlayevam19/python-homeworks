{
 "cells": [
  {
   "cell_type": "code",
   "execution_count": 1,
   "metadata": {},
   "outputs": [
    {
     "name": "stdout",
     "output_type": "stream",
     "text": [
      "<!DOCTYPE html>\n",
      "<html>\n",
      " <head>\n",
      "  <title>\n",
      "   Weather Forecast\n",
      "  </title>\n",
      " </head>\n",
      " <body>\n",
      "  <h4>\n",
      "   5-Day Weather Forecast\n",
      "  </h4>\n",
      "  <table>\n",
      "   <thead>\n",
      "    <tr>\n",
      "     <th>\n",
      "      Day\n",
      "     </th>\n",
      "     <th>\n",
      "      Temperature\n",
      "     </th>\n",
      "     <th>\n",
      "      Condition\n",
      "     </th>\n",
      "    </tr>\n",
      "   </thead>\n",
      "   <tbody>\n",
      "    <tr>\n",
      "     <td>\n",
      "      Monday\n",
      "     </td>\n",
      "     <td>\n",
      "      25Â°C\n",
      "     </td>\n",
      "     <td>\n",
      "      Sunny\n",
      "     </td>\n",
      "    </tr>\n",
      "    <tr>\n",
      "     <td>\n",
      "      Tuesday\n",
      "     </td>\n",
      "     <td>\n",
      "      22Â°C\n",
      "     </td>\n",
      "     <td>\n",
      "      Cloudy\n",
      "     </td>\n",
      "    </tr>\n",
      "    <tr>\n",
      "     <td>\n",
      "      Wednesday\n",
      "     </td>\n",
      "     <td>\n",
      "      18Â°C\n",
      "     </td>\n",
      "     <td>\n",
      "      Rainy\n",
      "     </td>\n",
      "    </tr>\n",
      "    <tr>\n",
      "     <td>\n",
      "      Thursday\n",
      "     </td>\n",
      "     <td>\n",
      "      20Â°C\n",
      "     </td>\n",
      "     <td>\n",
      "      Partly Cloudy\n",
      "     </td>\n",
      "    </tr>\n",
      "    <tr>\n",
      "     <td>\n",
      "      Friday\n",
      "     </td>\n",
      "     <td>\n",
      "      30Â°C\n",
      "     </td>\n",
      "     <td>\n",
      "      Sunny\n",
      "     </td>\n",
      "    </tr>\n",
      "   </tbody>\n",
      "  </table>\n",
      " </body>\n",
      "</html>\n",
      "\n"
     ]
    }
   ],
   "source": [
    "from bs4 import BeautifulSoup\n",
    "\n",
    "with open('weather.html') as file:\n",
    "    content=file.read()\n",
    "soup=BeautifulSoup(content, 'html.parser')\n",
    "print(soup.prettify())"
   ]
  },
  {
   "cell_type": "code",
   "execution_count": 22,
   "metadata": {},
   "outputs": [
    {
     "name": "stdout",
     "output_type": "stream",
     "text": [
      "Monday 25°C Sunny\n",
      "Tuesday 22°C Cloudy\n",
      "Wednesday 18°C Rainy\n",
      "Thursday 20°C Partly Cloudy\n",
      "Friday 30°C Sunny\n"
     ]
    }
   ],
   "source": [
    "nested=[]\n",
    "l=soup.find_all('td')\n",
    "for i in range(0,len(l)-2,3):\n",
    "    nested.append([l[i].text, l[i+1].text, l[i+2].text])\n",
    "    print(l[i].text, l[i+1].text.replace('Â',\"\"), l[i+2].text)\n",
    "\n"
   ]
  },
  {
   "cell_type": "code",
   "execution_count": 25,
   "metadata": {},
   "outputs": [
    {
     "name": "stdout",
     "output_type": "stream",
     "text": [
      "The day with the highest temperature: Friday\n",
      "The day with Sunny condition: Monday\n",
      "The day with Sunny condition: Friday\n",
      "The day with both conditions: Friday\n"
     ]
    }
   ],
   "source": [
    "max=int((nested[0][1]).replace('Â°C', ''))\n",
    "ls=set()\n",
    "lh=set()\n",
    "for i in range(1, len(nested)):\n",
    "    if int(nested[i][1].replace('Â°C',''))>max:\n",
    "        max=int(nested[i][1].replace('Â°C',''))\n",
    "        day=nested[i][0]\n",
    "        lh.add(day)\n",
    "\n",
    "print(\"The day with the highest temperature:\", day)\n",
    "for i in nested:\n",
    "    if(i[2]=='Sunny'):\n",
    "        print(\"The day with Sunny condition:\", i[0])\n",
    "        ls.add(i[0])\n",
    "a=lh.intersection(ls)\n",
    "for i in a:\n",
    "    print(\"The day with both conditions:\", i)\n",
    "    \n",
    "\n",
    "\n",
    "\n"
   ]
  }
 ],
 "metadata": {
  "kernelspec": {
   "display_name": "Python 3",
   "language": "python",
   "name": "python3"
  },
  "language_info": {
   "codemirror_mode": {
    "name": "ipython",
    "version": 3
   },
   "file_extension": ".py",
   "mimetype": "text/x-python",
   "name": "python",
   "nbconvert_exporter": "python",
   "pygments_lexer": "ipython3",
   "version": "3.10.11"
  }
 },
 "nbformat": 4,
 "nbformat_minor": 2
}
