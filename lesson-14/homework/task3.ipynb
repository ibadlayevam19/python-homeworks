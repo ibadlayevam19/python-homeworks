{
 "cells": [
  {
   "cell_type": "code",
   "execution_count": 71,
   "metadata": {},
   "outputs": [
    {
     "name": "stdout",
     "output_type": "stream",
     "text": [
      "{'name': 'Sony vaio i5', 'price': '$790', 'description': \"Sony is so confident that the VAIO S is a superior ultraportable laptop \\nthat the company proudly compares the notebook to Apple's 13-inch \\nMacBook Pro. And in a lot of ways this notebook is better, thanks to a \\nlighter weight. \"}\n",
      "{'name': 'Sony vaio i7\\n', 'price': '$790', 'description': \"REVIEW\\n \\nSony is so confident that the VAIO S is a superior \\nultraportable laptop that the company proudly compares the notebook to \\nApple's 13-inch MacBook Pro. And in a lot of ways this notebook is \\nbetter, thanks to a lighter weight, higher-resolution display, more \\nstorage space, and a Blu-ray drive.  \"}\n",
      "{'name': 'MacBook air', 'price': '$700', 'description': '1.6GHz dual-core Intel Core i5 (Turbo Boost up to 2.7GHz) with 3MB \\nshared L3 cache\\nConfigurable to 2.2GHz dual-core Intel Core i7 (Turbo \\nBoost up to 3.2GHz) with 4MB shared L3 cache. '}\n",
      "{'name': 'Dell i7 8gb', 'price': '$700', 'description': '6th Generation Intel Core i7-6500U Dual-Core Processor 2.5 GHz (max \\nboost speed up to 3.1GHz) 4MB L3 Cache, 8GB DDR4 1600 MHz, 1TB 5400 RPM \\nHDD15.6 in Full HD LED-backlit touchscreen with Truelife (1920 x 1080), \\n10-finger multi-touch support, Intel HD Graphics 520 with shared \\ngraphics memory '}\n",
      "{'name': '2017 Dell 15.6 Inch', 'price': '$700', 'description': '7th Gen Intel Core i7-7500U mobile processor 2.70 GHz with Turbo Boost \\nTechnology up to 3.50 GHz, Intel HD Graphics 62015.6 inch Full HD IPS \\nTrueLife LED-backlit touchscreen (1920 x 1080), 10-finger multi-touch \\nsupport, 360° flip-and-fold design,8GB DDR4 2400 MHz Memory, 1TB 5400 \\nRPM HDD, No optical drive, 3 in 1 card reader (SD SDHC SDXC) '}\n",
      "{'name': 'MacBook Pro', 'price': '$1100', 'description': \"Apple has introduced three new versions of its MacBook Pro line, \\nincluding a 13-inch and 15-inch model with the Touch Bar, a thin, \\nmulti-touch strip display that sits above the MacBook Pro's keyboard.  \"}\n",
      "{'name': 'Apple monitor 24', 'price': '$400', 'description': 'LED Cinema Display features a 27-inch glossy LED-backlit TFT \\nactive-matrix LCD display with IPS technology and an optimum resolution \\nof 2560x1440. It has a 178 degree horizontal and vertical viewing angle,\\n a \"typical\" brightness of 375 cd/m2, contrast ratio of 1000:1, and a \\n12 ms response time. '}\n",
      "{'name': 'ASUS Full HD', 'price': '$230', 'description': 'ASUS VS247H-P 23.6- Inch Full HD '}\n"
     ]
    }
   ],
   "source": [
    "from selenium import webdriver\n",
    "from selenium.webdriver.edge.options import Options\n",
    "from selenium.webdriver.common.by import By\n",
    "from selenium.webdriver.common.keys import Keys\n",
    "from selenium.webdriver.support.ui import WebDriverWait\n",
    "from selenium.webdriver.support import expected_conditions as EC\n",
    "import time\n",
    "from bs4 import BeautifulSoup\n",
    "\n",
    "\n",
    "edge_options=Options()\n",
    "edge_options.add_argument(\"--disable-popup-blocking\")\n",
    "edge_options.add_argument('--window-position=0,0')\n",
    "\n",
    "edge_options.add_experimental_option('detach', True)\n",
    "#going to the website and going to laptops section\n",
    "laptops=[]\n",
    "driver=webdriver.Edge(edge_options)\n",
    "driver.get('https://www.demoblaze.com/')\n",
    "\n",
    "wait = WebDriverWait(driver, 10)\n",
    "lap_section = wait.until(EC.element_to_be_clickable((By.ID, \"itemc\")))\n",
    "lap_sec=driver.find_elements(By.ID, 'itemc')[1]\n",
    "lap_sec.click()\n",
    "\n",
    "wait.until(EC.presence_of_all_elements_located((By.CLASS_NAME, \"card-block\")))\n",
    "time.sleep(2)\n",
    "\n",
    "#parsing the laptop section\n",
    "html=driver.page_source\n",
    "code=BeautifulSoup(html, 'html.parser')\n",
    "a=code.find(class_='col-lg-9')\n",
    "row=a.find(class_='row')\n",
    "cards = row.find_all(class_=\"card-block\")\n",
    "for laptop in cards:\n",
    "    title=laptop.find('a').text\n",
    "    price=laptop.find('h5').text\n",
    "    desc=laptop.find('p').text\n",
    "    laptops.append({\n",
    "        \"name\":title,\n",
    "        \"price\":price,\n",
    "        \"description\":desc\n",
    "    })\n",
    "next_button = wait.until(EC.element_to_be_clickable((By.CLASS_NAME, 'page-item')))\n",
    "next_sec=driver.find_elements(By.CLASS_NAME, 'page-item')[1]\n",
    "next_sec.click()\n",
    "\n",
    "wait.until(EC.presence_of_all_elements_located((By.CLASS_NAME, \"card-block\")))\n",
    "time.sleep(2)\n",
    "\n",
    "#parsing the next page\n",
    "html1=driver.page_source\n",
    "code1=BeautifulSoup(html1, 'html.parser')\n",
    "a1=code1.find(class_='col-lg-9')\n",
    "row1=a1.find(class_='row')\n",
    "cards1= code1.find_all(class_=\"card-block\")\n",
    "for laptop in cards1:\n",
    "    if laptop not in cards:\n",
    "        title=laptop.find('a').text\n",
    "        price=laptop.find('h5').text\n",
    "        desc=laptop.find('p').text\n",
    "        laptops.append({\n",
    "            \"name\":title,\n",
    "            \"price\":price,\n",
    "            \"description\":desc\n",
    "        })\n",
    "for laptop in laptops:\n",
    "    print(laptop)\n",
    "\n",
    "\n",
    "time.sleep(3)\n",
    "driver.quit()\n",
    "\n"
   ]
  },
  {
   "cell_type": "code",
   "execution_count": null,
   "metadata": {},
   "outputs": [],
   "source": []
  }
 ],
 "metadata": {
  "kernelspec": {
   "display_name": "Python 3",
   "language": "python",
   "name": "python3"
  },
  "language_info": {
   "codemirror_mode": {
    "name": "ipython",
    "version": 3
   },
   "file_extension": ".py",
   "mimetype": "text/x-python",
   "name": "python",
   "nbconvert_exporter": "python",
   "pygments_lexer": "ipython3",
   "version": "3.10.11"
  }
 },
 "nbformat": 4,
 "nbformat_minor": 2
}
