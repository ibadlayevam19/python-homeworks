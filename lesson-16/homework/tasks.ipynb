{
 "cells": [
  {
   "cell_type": "markdown",
   "metadata": {},
   "source": [
    "### Task1"
   ]
  },
  {
   "cell_type": "code",
   "execution_count": 2,
   "metadata": {},
   "outputs": [
    {
     "data": {
      "text/plain": [
       "array([  0.        ,  20.        ,  37.77777778, 100.        ,\n",
       "        25.        ])"
      ]
     },
     "execution_count": 2,
     "metadata": {},
     "output_type": "execute_result"
    }
   ],
   "source": [
    "import numpy as np\n",
    "def FahToCel(f):\n",
    "    c=(f-32)*(5/9)\n",
    "    return c\n",
    "@np.vectorize\n",
    "def FahToCel(f):\n",
    "    c=(f-32)*(5/9)\n",
    "    return c\n",
    "\n",
    "temperature_f=np.array([32,68,100,212,77])\n",
    "temperature_c=FahToCel(temperature_f)\n",
    "temperature_c\n",
    "\n"
   ]
  },
  {
   "cell_type": "markdown",
   "metadata": {},
   "source": [
    "### Task2"
   ]
  },
  {
   "cell_type": "code",
   "execution_count": 6,
   "metadata": {},
   "outputs": [
    {
     "data": {
      "text/plain": [
       "array([  2,   9,  64, 625])"
      ]
     },
     "execution_count": 6,
     "metadata": {},
     "output_type": "execute_result"
    }
   ],
   "source": [
    "def cal_pow(num, n):\n",
    "    return num**n\n",
    "a=np.array([2,3,4,5])\n",
    "b=np.array([1,2,3,4])\n",
    "res=cal_pow(a,b)\n",
    "print(res)\n",
    "# ** operation is already vectorized, so no need to vectorize here\n",
    "\n"
   ]
  },
  {
   "cell_type": "markdown",
   "metadata": {},
   "source": [
    "### Task3\n",
    "$$\n",
    "\\begin{cases}\n",
    "4x+5y+6z=7 \\\\\n",
    "3x-y+z=4 \\\\\n",
    "2x+y-2z=5\n",
    "\\end{cases}\n",
    "$$"
   ]
  },
  {
   "cell_type": "code",
   "execution_count": 10,
   "metadata": {},
   "outputs": [
    {
     "name": "stdout",
     "output_type": "stream",
     "text": [
      "[ 1.7027027   0.62162162 -0.48648649]\n"
     ]
    }
   ],
   "source": [
    "m=np.array([[4,5,6],\n",
    "           [3,-1,1],\n",
    "           [2,1,-2]])\n",
    "v=np.array([7,4,5])\n",
    "sol=np.linalg.solve(m,v)\n",
    "print(sol)\n"
   ]
  },
  {
   "cell_type": "markdown",
   "metadata": {},
   "source": [
    "### Task4\n",
    "$$\n",
    "\\begin{cases}\n",
    "10I_1-2I_2+3I_3=12 \\\\\n",
    "-2I_1+8I_2-I_3=-5 \\\\\n",
    "3I_1-I_2+6I_3=15\n",
    "\\end{cases}\n",
    "$$"
   ]
  },
  {
   "cell_type": "code",
   "execution_count": 12,
   "metadata": {},
   "outputs": [
    {
     "name": "stdout",
     "output_type": "stream",
     "text": [
      "I1= 0.48963730569948194\n",
      "I2= -0.2253886010362694\n",
      "I3= 2.2176165803108807\n"
     ]
    }
   ],
   "source": [
    "m=np.array([\n",
    "    [10,-2,3],\n",
    "    [-2,8,-1],\n",
    "    [3,-1,6]\n",
    "])\n",
    "v=np.array([12,-5,15])\n",
    "res=np.linalg.solve(m,v)\n",
    "print('I1=',res[0])\n",
    "print('I2=',res[1])\n",
    "print('I3=',res[2])"
   ]
  },
  {
   "cell_type": "markdown",
   "metadata": {},
   "source": [
    "### Task5"
   ]
  },
  {
   "cell_type": "code",
   "execution_count": 15,
   "metadata": {},
   "outputs": [],
   "source": [
    "from PIL import Image"
   ]
  },
  {
   "cell_type": "code",
   "execution_count": 66,
   "metadata": {},
   "outputs": [
    {
     "name": "stdout",
     "output_type": "stream",
     "text": [
      "RGB\n"
     ]
    }
   ],
   "source": [
    "with Image.open('images/birds.jpg') as img:\n",
    "    print(img.mode)\n",
    "    img_arr=np.array(img)"
   ]
  },
  {
   "cell_type": "code",
   "execution_count": 31,
   "metadata": {},
   "outputs": [],
   "source": [
    "flipped=img_arr[::-1, ::-1,:]\n",
    "flipped\n",
    "flipped_img=Image.fromarray(flipped, mode='RGB')\n",
    "flipped_img.save('images/flipped.jpg')"
   ]
  },
  {
   "cell_type": "code",
   "execution_count": 48,
   "metadata": {},
   "outputs": [],
   "source": [
    "noise=np.random.normal(0,30,img_arr.shape) # this will generate a random array in the shape of img_arr\n",
    "noisy_img_arr=img_arr+noise # adding the two arrays\n",
    "noisy_img_arr=np.clip(noisy_img_arr, 0, 255) # giving range to values of array\n",
    "noisy_img=Image.fromarray(noisy_img_arr.astype(np.uint8)) # making values 8 bit integer\n",
    "noisy_img.save('images/noisy_img.jpg')\n"
   ]
  },
  {
   "cell_type": "code",
   "execution_count": 56,
   "metadata": {},
   "outputs": [],
   "source": [
    "brithen_arr=(img_arr[:,:,2]+30)\n",
    "brithen_arr=np.clip(brithen_arr, 0, 255)\n",
    "brithen_img=Image.fromarray(brithen_arr)\n",
    "brithen_img.save('images/brithen_img.jpg')"
   ]
  },
  {
   "cell_type": "code",
   "execution_count": 73,
   "metadata": {},
   "outputs": [],
   "source": [
    "masked=img_arr.copy()\n",
    "masked[360-50:360+50,360-50:360+50,:]=0\n",
    "img_rec=Image.fromarray(masked)\n",
    "img_rec.save('images/rectangle.jpg')\n",
    "\n"
   ]
  },
  {
   "cell_type": "markdown",
   "metadata": {},
   "source": [
    "### Bonus challenges"
   ]
  },
  {
   "cell_type": "code",
   "execution_count": 67,
   "metadata": {},
   "outputs": [],
   "source": [
    "def flip_img(img):\n",
    "    arr=np.array(img)\n",
    "    flipped=arr[::-1, ::-1, :]\n",
    "    flipped_img=Image.fromarray(flipped)\n",
    "    return flipped_img"
   ]
  },
  {
   "cell_type": "code",
   "execution_count": 68,
   "metadata": {},
   "outputs": [],
   "source": [
    "def add_noise(img, std):\n",
    "    arr=np.array(img)\n",
    "    noise=np.random.normal(0,std,arr.shape)\n",
    "    noisy=arr+noise\n",
    "    noisy=np.clip(noisy, 0, 255)\n",
    "    noisy_img=Image.fromarray(noisy.astype(np.uint8))\n",
    "    return noisy_img\n"
   ]
  },
  {
   "cell_type": "code",
   "execution_count": 69,
   "metadata": {},
   "outputs": [],
   "source": [
    "def brithen_channels(img, num):\n",
    "    arr=np.array(img)\n",
    "    brithen=arr[:,:,:]+num\n",
    "    brithen=np.clip(brithen, 0, 255)\n",
    "    brithen_img=Image.fromarray(brithen)\n",
    "    return brithen_img\n"
   ]
  },
  {
   "cell_type": "code",
   "execution_count": 74,
   "metadata": {},
   "outputs": [],
   "source": [
    "def apply_mask(img, size):\n",
    "    arr=np.array(img)\n",
    "    height, width, _=img.shape\n",
    "    startx=(width-size[1])//2\n",
    "    starty=(height-size[0])//2\n",
    "    endx=startx+size[1]\n",
    "    endy=starty+size[0]\n",
    "    masked=arr.copy()\n",
    "    masked[starty:endy, startx:endx, :]=[0,0,0]\n",
    "    masked_img=Image.fromarray(masked_img)\n",
    "    return masked_img    \n",
    "    "
   ]
  },
  {
   "cell_type": "code",
   "execution_count": null,
   "metadata": {},
   "outputs": [],
   "source": []
  }
 ],
 "metadata": {
  "kernelspec": {
   "display_name": "Python 3",
   "language": "python",
   "name": "python3"
  },
  "language_info": {
   "codemirror_mode": {
    "name": "ipython",
    "version": 3
   },
   "file_extension": ".py",
   "mimetype": "text/x-python",
   "name": "python",
   "nbconvert_exporter": "python",
   "pygments_lexer": "ipython3",
   "version": "3.10.11"
  }
 },
 "nbformat": 4,
 "nbformat_minor": 2
}
