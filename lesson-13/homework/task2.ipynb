{
 "cells": [
  {
   "cell_type": "code",
   "execution_count": 1,
   "metadata": {},
   "outputs": [],
   "source": [
    "import sqlite3"
   ]
  },
  {
   "cell_type": "code",
   "execution_count": 2,
   "metadata": {},
   "outputs": [],
   "source": [
    "with sqlite3.connect('library.db') as con:\n",
    "    cursor=con.cursor()\n",
    "    query=\"Create Table Books(Title Text, Author Text, Year_Published Integer, Genre Text)\"\n",
    "    cursor.execute(query)"
   ]
  },
  {
   "cell_type": "code",
   "execution_count": 4,
   "metadata": {},
   "outputs": [],
   "source": [
    "entries=[\n",
    "    ('To Kill a Mockingbird', 'Harper Lee', 1960, 'Fiction'),\n",
    "    ('1984', 'George Orwell', 1949, 'Dystopian'),\n",
    "    ('The Great Gatsby', 'F.Scott Fitzzgerald', 1925, 'Classic')\n",
    "]\n",
    "with sqlite3.connect('library.db') as con:\n",
    "    cursor=con.cursor()\n",
    "    query=\"Insert into Books Values(?,?,?,?)\"\n",
    "    cursor.executemany(query, entries)"
   ]
  },
  {
   "cell_type": "code",
   "execution_count": 5,
   "metadata": {},
   "outputs": [],
   "source": [
    "with sqlite3.connect('library.db') as con:\n",
    "    cursor=con.cursor()\n",
    "    cursor.execute(\"Update Books Set Year_Published=1950 where Title='1984'\")"
   ]
  },
  {
   "cell_type": "code",
   "execution_count": 22,
   "metadata": {},
   "outputs": [
    {
     "data": {
      "text/plain": [
       "[('1984', 'George Orwell')]"
      ]
     },
     "execution_count": 22,
     "metadata": {},
     "output_type": "execute_result"
    }
   ],
   "source": [
    "with sqlite3.connect('library.db') as con:\n",
    "    cursor=con.cursor()\n",
    "    rows=cursor.execute(\"Select Title, Author from Books where Genre='Dystopian'\")\n",
    "rows.fetchall()\n",
    "# for i in ins:\n",
    "#     print(i)\n"
   ]
  },
  {
   "cell_type": "code",
   "execution_count": 14,
   "metadata": {},
   "outputs": [],
   "source": [
    "with sqlite3.connect('library.db') as con:\n",
    "    cursor=con.cursor()\n",
    "    cursor.execute(\"Update Books Set Year_Published=1949 where Title='1984'\")"
   ]
  },
  {
   "cell_type": "code",
   "execution_count": 15,
   "metadata": {},
   "outputs": [],
   "source": [
    "with sqlite3.connect('library.db') as con:\n",
    "    cursor=con.cursor()\n",
    "    cursor.execute(\"Delete from Books where Year_Published<1950\")"
   ]
  },
  {
   "cell_type": "code",
   "execution_count": 16,
   "metadata": {},
   "outputs": [],
   "source": [
    "with sqlite3.connect('library.db') as con:\n",
    "    cursor=con.cursor()\n",
    "    cursor.execute(\"Insert into Books Values('1984', 'George Orwell', 1949, 'Dystopian'),('The Great Gatsby', 'F.Scott Fitzzgerald', 1925, 'Classic')\")"
   ]
  },
  {
   "cell_type": "code",
   "execution_count": null,
   "metadata": {},
   "outputs": [],
   "source": [
    "with sqlite3.connect('library.db') as con:\n",
    "    cursor=con.cursor()\n",
    "    cursor.executescript(\"Alter Table Books add column Rating Float;\\\n",
    "                   Update Books Set rating=4.8 where title='To Kill a Mockingbird';\\\n",
    "                   Update Books Set rating=4.7 where title='1984';\\\n",
    "                   Update Books Set Rating=4.5 where title='The Great Gatsby';\")"
   ]
  },
  {
   "cell_type": "code",
   "execution_count": 21,
   "metadata": {},
   "outputs": [
    {
     "data": {
      "text/plain": [
       "[('The Great Gatsby', 'F.Scott Fitzzgerald', 1925, 'Classic', 4.5),\n",
       " ('1984', 'George Orwell', 1949, 'Dystopian', 4.7),\n",
       " ('To Kill a Mockingbird', 'Harper Lee', 1960, 'Fiction', 4.8)]"
      ]
     },
     "execution_count": 21,
     "metadata": {},
     "output_type": "execute_result"
    }
   ],
   "source": [
    "with sqlite3.connect('library.db') as con:\n",
    "    cursor=con.cursor()\n",
    "    data=cursor.execute(\"Select * from Books order by Year_Published\")\n",
    "data.fetchall()"
   ]
  },
  {
   "cell_type": "code",
   "execution_count": null,
   "metadata": {},
   "outputs": [],
   "source": []
  }
 ],
 "metadata": {
  "kernelspec": {
   "display_name": "Python 3",
   "language": "python",
   "name": "python3"
  },
  "language_info": {
   "codemirror_mode": {
    "name": "ipython",
    "version": 3
   },
   "file_extension": ".py",
   "mimetype": "text/x-python",
   "name": "python",
   "nbconvert_exporter": "python",
   "pygments_lexer": "ipython3",
   "version": "3.10.11"
  }
 },
 "nbformat": 4,
 "nbformat_minor": 2
}
