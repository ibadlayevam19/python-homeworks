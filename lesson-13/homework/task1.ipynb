{
 "cells": [
  {
   "cell_type": "code",
   "execution_count": 1,
   "metadata": {},
   "outputs": [],
   "source": [
    "import sqlite3"
   ]
  },
  {
   "cell_type": "code",
   "execution_count": 3,
   "metadata": {},
   "outputs": [],
   "source": [
    "connection=sqlite3.connect(\"roster.db\")\n",
    "connection.close()"
   ]
  },
  {
   "cell_type": "code",
   "execution_count": 2,
   "metadata": {},
   "outputs": [],
   "source": [
    "with sqlite3.connect(\"roster.db\") as connection:\n",
    "    cursor=connection.cursor()\n",
    "    query=\"Create table Roster(Name TEXT, Species TEXT, Age INTEGER);\"\n",
    "    data=cursor.execute(query)"
   ]
  },
  {
   "cell_type": "code",
   "execution_count": 3,
   "metadata": {},
   "outputs": [],
   "source": [
    "with sqlite3.connect('roster.db') as connection:\n",
    "    cursor=connection.cursor()\n",
    "    rows=[\n",
    "        ('Benjamin Sisko', 'Human', 40),\n",
    "        ('Jadzia Dax', 'Trill', 300),\n",
    "        ('Kira Nerys', 'Bajoran', 29)\n",
    "    ]\n",
    "    query=\"Insert or ignore into Roster Values(?,?,?)\"\n",
    "    cursor.executemany(query, rows)"
   ]
  },
  {
   "cell_type": "code",
   "execution_count": 4,
   "metadata": {},
   "outputs": [],
   "source": [
    "connection=sqlite3.connect('roster.db')\n",
    "cursor=connection.cursor()\n",
    "cursor.execute(\"UPDATE Roster SET Name='Ezri Dax' WHERE Name='Jadzia Dax'\")\n",
    "connection.commit()\n",
    "connection.close()"
   ]
  },
  {
   "cell_type": "code",
   "execution_count": 5,
   "metadata": {},
   "outputs": [
    {
     "name": "stdout",
     "output_type": "stream",
     "text": [
      "('Kira Nerys', 29)\n"
     ]
    }
   ],
   "source": [
    "connection=sqlite3.connect('roster.db')\n",
    "cursor=connection.cursor()\n",
    "data=cursor.execute(\"Select Name, Age from Roster where Species='Bajoran'\")\n",
    "rows=data.fetchall()\n",
    "connection.close()\n",
    "for row in rows:\n",
    "    print(row)\n",
    "    "
   ]
  },
  {
   "cell_type": "code",
   "execution_count": 6,
   "metadata": {},
   "outputs": [],
   "source": [
    "connection=sqlite3.connect(\"roster.db\")\n",
    "cursor=connection.cursor()\n",
    "cursor.execute(\"Delete from Roster where Age>100\")\n",
    "connection.commit()\n",
    "connection.close()"
   ]
  },
  {
   "cell_type": "code",
   "execution_count": null,
   "metadata": {},
   "outputs": [],
   "source": [
    "connection=sqlite3.connect(\"roster.db\")\n",
    "cursor=connection.cursor()\n",
    "cursor.execute(\"Insert into Roster Values('Ezri Dax', 'Trill', 300)\")\n",
    "connection.commit()\n",
    "connection.close()"
   ]
  },
  {
   "cell_type": "code",
   "execution_count": 8,
   "metadata": {},
   "outputs": [],
   "source": [
    "\n",
    "with sqlite3.connect(\"roster.db\") as con:\n",
    "    cursor=con.cursor()\n",
    "    cursor.executescript(\"Alter table Roster add column Rank text;\\\n",
    "                       Update Roster set Rank='Captain' where Name='Benjamin Sisko';\\\n",
    "                       Update Roster set Rank='Lieutenant' where Name='Ezri Dax';\\\n",
    "                       Update Roster set Rank='Major' where Name='Kira Nerys'; \")"
   ]
  },
  {
   "cell_type": "code",
   "execution_count": 10,
   "metadata": {},
   "outputs": [
    {
     "data": {
      "text/plain": [
       "[('Kira Nerys', 'Bajoran', 29, 'Major'),\n",
       " ('Benjamin Sisko', 'Human', 40, 'Captain'),\n",
       " ('Ezri Dax', 'Trill', 300, 'Lieutenant')]"
      ]
     },
     "execution_count": 10,
     "metadata": {},
     "output_type": "execute_result"
    }
   ],
   "source": [
    "with sqlite3.connect(\"roster.db\") as con:\n",
    "    cursor=con.cursor()\n",
    "    sorted=cursor.execute(\"Select * from Roster order by Age\")\n",
    "sorted.fetchall()"
   ]
  },
  {
   "cell_type": "code",
   "execution_count": null,
   "metadata": {},
   "outputs": [],
   "source": []
  }
 ],
 "metadata": {
  "kernelspec": {
   "display_name": "Python 3",
   "language": "python",
   "name": "python3"
  },
  "language_info": {
   "codemirror_mode": {
    "name": "ipython",
    "version": 3
   },
   "file_extension": ".py",
   "mimetype": "text/x-python",
   "name": "python",
   "nbconvert_exporter": "python",
   "pygments_lexer": "ipython3",
   "version": "3.10.11"
  }
 },
 "nbformat": 4,
 "nbformat_minor": 2
}
