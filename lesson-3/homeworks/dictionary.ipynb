{
 "cells": [
  {
   "cell_type": "markdown",
   "metadata": {},
   "source": [
    "1.Get Value: Given a dictionary and a key, retrieve the associated value, considering what to return if the key doesn’t exist."
   ]
  },
  {
   "cell_type": "code",
   "execution_count": 27,
   "metadata": {},
   "outputs": [
    {
     "name": "stdout",
     "output_type": "stream",
     "text": [
      "Malika\n"
     ]
    }
   ],
   "source": [
    "d={\n",
    "    'name': 'Malika',\n",
    "    'surname': 'Ibadlayeva',\n",
    "    'age': 19\n",
    "}\n",
    "key='name'\n",
    "if(key in d):\n",
    "    print(d[key])\n",
    "else:\n",
    "    print(\"It has not got that key\")\n"
   ]
  },
  {
   "cell_type": "markdown",
   "metadata": {},
   "source": [
    "2.Check Key: Given a dictionary and a key, check if the key is present in the dictionary."
   ]
  },
  {
   "cell_type": "code",
   "execution_count": 28,
   "metadata": {},
   "outputs": [
    {
     "data": {
      "text/plain": [
       "False"
      ]
     },
     "execution_count": 28,
     "metadata": {},
     "output_type": "execute_result"
    }
   ],
   "source": [
    "d={\n",
    "    'name': 'Malika',\n",
    "    'surname': 'Ibadlayeva',\n",
    "    'age': 19\n",
    "}\n",
    "key='Name'\n",
    "key in d.keys()"
   ]
  },
  {
   "cell_type": "markdown",
   "metadata": {},
   "source": [
    "3.Count Keys: Determine the number of keys in the dictionary."
   ]
  },
  {
   "cell_type": "code",
   "execution_count": 29,
   "metadata": {},
   "outputs": [
    {
     "data": {
      "text/plain": [
       "3"
      ]
     },
     "execution_count": 29,
     "metadata": {},
     "output_type": "execute_result"
    }
   ],
   "source": [
    "d={\n",
    "    'name': 'Malika',\n",
    "    'surname': 'Ibadlayeva',\n",
    "    'age': 19\n",
    "}\n",
    "len(d.keys())"
   ]
  },
  {
   "cell_type": "markdown",
   "metadata": {},
   "source": [
    "4.Get All Keys: Create a list that contains all the keys in the dictionary."
   ]
  },
  {
   "cell_type": "code",
   "execution_count": 30,
   "metadata": {},
   "outputs": [
    {
     "data": {
      "text/plain": [
       "['name', 'surname', 'age']"
      ]
     },
     "execution_count": 30,
     "metadata": {},
     "output_type": "execute_result"
    }
   ],
   "source": [
    "d={\n",
    "    'name': 'Malika',\n",
    "    'surname': 'Ibadlayeva',\n",
    "    'age': 19\n",
    "}\n",
    "l=[]\n",
    "for i in d.keys():\n",
    "    l.append(i)\n",
    "l"
   ]
  },
  {
   "cell_type": "markdown",
   "metadata": {},
   "source": [
    "5.Get All Values: Create a list that contains all the values in the dictionary."
   ]
  },
  {
   "cell_type": "code",
   "execution_count": 31,
   "metadata": {},
   "outputs": [
    {
     "data": {
      "text/plain": [
       "['Malika', 'Ibadlayeva', 19]"
      ]
     },
     "execution_count": 31,
     "metadata": {},
     "output_type": "execute_result"
    }
   ],
   "source": [
    "d={\n",
    "    'name': 'Malika',\n",
    "    'surname': 'Ibadlayeva',\n",
    "    'age': 19\n",
    "}\n",
    "l=[]\n",
    "for i in d.values():\n",
    "    l.append(i)\n",
    "l"
   ]
  },
  {
   "cell_type": "markdown",
   "metadata": {},
   "source": [
    "6.Merge Dictionaries: Given two dictionaries, create a new dictionary that combines both."
   ]
  },
  {
   "cell_type": "code",
   "execution_count": 32,
   "metadata": {},
   "outputs": [
    {
     "data": {
      "text/plain": [
       "{'name': 'John',\n",
       " 'surname': 'Ibadlayeva',\n",
       " 'age': 19,\n",
       " 'Surname': 'Robinson',\n",
       " 'Age': 20}"
      ]
     },
     "execution_count": 32,
     "metadata": {},
     "output_type": "execute_result"
    }
   ],
   "source": [
    "d={\n",
    "    'name': 'Malika',\n",
    "    'surname': 'Ibadlayeva',\n",
    "    'age': 19\n",
    "}\n",
    "d1={\n",
    "    'name': 'John',\n",
    "    'Surname': 'Robinson',\n",
    "    'Age': 20\n",
    "}\n",
    "d | d1"
   ]
  },
  {
   "cell_type": "markdown",
   "metadata": {},
   "source": [
    "7.Remove Key: Given a dictionary and a key, remove the key if it exists, handling the case if it doesn’t."
   ]
  },
  {
   "cell_type": "code",
   "execution_count": 34,
   "metadata": {},
   "outputs": [
    {
     "name": "stdout",
     "output_type": "stream",
     "text": [
      "key does not exist\n"
     ]
    },
    {
     "data": {
      "text/plain": [
       "{'name': 'John', 'Surname': 'Robinson', 'Age': 20}"
      ]
     },
     "execution_count": 34,
     "metadata": {},
     "output_type": "execute_result"
    }
   ],
   "source": [
    "d={\n",
    "    'name': 'John',\n",
    "    'Surname': 'Robinson',\n",
    "    'Age': 20\n",
    "}\n",
    "key='nam'\n",
    "if key in d:\n",
    "    d.pop(key)\n",
    "else:\n",
    "    print('key does not exist')\n",
    "d"
   ]
  },
  {
   "cell_type": "markdown",
   "metadata": {},
   "source": [
    "8.Clear Dictionary: Create a new empty dictionary."
   ]
  },
  {
   "cell_type": "code",
   "execution_count": 37,
   "metadata": {},
   "outputs": [],
   "source": [
    "d={}\n"
   ]
  },
  {
   "cell_type": "markdown",
   "metadata": {},
   "source": [
    "9.Check if Dictionary is Empty: Determine if a dictionary has any elements."
   ]
  },
  {
   "cell_type": "code",
   "execution_count": 38,
   "metadata": {},
   "outputs": [
    {
     "name": "stdout",
     "output_type": "stream",
     "text": [
      "Empty\n"
     ]
    }
   ],
   "source": [
    "d={}\n",
    "if d=={}:\n",
    "    print(\"Empty\")\n",
    "else:\n",
    "    print(\"It has element\")"
   ]
  },
  {
   "cell_type": "markdown",
   "metadata": {},
   "source": [
    "10.Get Key-Value Pair: Given a dictionary and a key, retrieve the key-value pair if the key exists."
   ]
  },
  {
   "cell_type": "code",
   "execution_count": 44,
   "metadata": {},
   "outputs": [
    {
     "name": "stdout",
     "output_type": "stream",
     "text": [
      "(Age,20)\n"
     ]
    }
   ],
   "source": [
    "d={\n",
    "    'name': 'John',\n",
    "    'Surname': 'Robinson',\n",
    "    'Age': 20\n",
    "}\n",
    "key='Age'\n",
    "if key in d:\n",
    "    print(f\"({key},{d[key]})\")\n",
    "else:\n",
    "    print(\"key doesnt exist\")"
   ]
  },
  {
   "cell_type": "markdown",
   "metadata": {},
   "source": [
    "11.Update Value: Given a dictionary, update the value for a specified key."
   ]
  },
  {
   "cell_type": "code",
   "execution_count": 46,
   "metadata": {},
   "outputs": [
    {
     "data": {
      "text/plain": [
       "{'name': 'malika', 'Surname': 'Robinson', 'Age': 20}"
      ]
     },
     "execution_count": 46,
     "metadata": {},
     "output_type": "execute_result"
    }
   ],
   "source": [
    "d={\n",
    "    'name': 'John',\n",
    "    'Surname': 'Robinson',\n",
    "    'Age': 20\n",
    "}\n",
    "key='name'\n",
    "d.update({key:'malika'})\n",
    "d"
   ]
  },
  {
   "cell_type": "markdown",
   "metadata": {},
   "source": [
    "12.Count Value Occurrences: Given a dictionary, count how many times a specific value appears across the keys."
   ]
  },
  {
   "cell_type": "code",
   "execution_count": 48,
   "metadata": {},
   "outputs": [
    {
     "data": {
      "text/plain": [
       "2"
      ]
     },
     "execution_count": 48,
     "metadata": {},
     "output_type": "execute_result"
    }
   ],
   "source": [
    "value=19\n",
    "count=0\n",
    "d={\n",
    "    'name':'Malika',\n",
    "    'surname':'ibadlayeva',\n",
    "    'age':19,\n",
    "    'id':19\n",
    "}\n",
    "for i in d.values():\n",
    "    if(value==i):\n",
    "        count+=1\n",
    "count\n",
    "\n"
   ]
  },
  {
   "cell_type": "markdown",
   "metadata": {},
   "source": [
    "13.Invert Dictionary: Given a dictionary, create a new dictionary that swaps keys and values."
   ]
  },
  {
   "cell_type": "code",
   "execution_count": 66,
   "metadata": {},
   "outputs": [
    {
     "data": {
      "text/plain": [
       "{'Malika': 'name', 'ibadlayeva': 'surname', 19: 'age'}"
      ]
     },
     "execution_count": 66,
     "metadata": {},
     "output_type": "execute_result"
    }
   ],
   "source": [
    "d={\n",
    "    'name':'Malika',\n",
    "    'surname':'ibadlayeva',\n",
    "    'age':19,\n",
    "}\n",
    "d1={}\n",
    "for i in d.keys():\n",
    "    d1[d[i]]=i\n",
    "d1\n",
    "\n",
    "\n",
    "\n",
    "    \n"
   ]
  },
  {
   "cell_type": "markdown",
   "metadata": {},
   "source": [
    "14.Find Keys with Value: Given a dictionary and a value, create a list of all keys that have that value."
   ]
  },
  {
   "cell_type": "code",
   "execution_count": 68,
   "metadata": {},
   "outputs": [
    {
     "data": {
      "text/plain": [
       "['age', 'id']"
      ]
     },
     "execution_count": 68,
     "metadata": {},
     "output_type": "execute_result"
    }
   ],
   "source": [
    "d={\n",
    "    'name':'Malika',\n",
    "    'surname':'ibadlayeva',\n",
    "    'age':19,\n",
    "    'id':19\n",
    "}\n",
    "val=19\n",
    "d1=[]\n",
    "for i in d.keys():\n",
    "    if(val==d[i]):\n",
    "        d1.append(i)\n",
    "d1"
   ]
  },
  {
   "cell_type": "markdown",
   "metadata": {},
   "source": [
    "15.Create a Dictionary from Lists: Given two lists (one of keys and one of values), create a dictionary that pairs them."
   ]
  },
  {
   "cell_type": "code",
   "execution_count": 69,
   "metadata": {},
   "outputs": [
    {
     "data": {
      "text/plain": [
       "{'name': 'Malika', 'surname': 'Ibadlayeva', 'age': 19, 'id': 38}"
      ]
     },
     "execution_count": 69,
     "metadata": {},
     "output_type": "execute_result"
    }
   ],
   "source": [
    "l1=['name', 'surname', 'age', 'id']\n",
    "l2=['Malika', 'Ibadlayeva', 19,38]\n",
    "d={}\n",
    "if len(l1)==len(l2):\n",
    "    for i in range(len(l1)):\n",
    "        d[l1[i]]=l2[i]\n",
    "d\n"
   ]
  },
  {
   "cell_type": "markdown",
   "metadata": {},
   "source": [
    "16.Check for Nested Dictionaries: Given a dictionary, check if any values are also dictionaries."
   ]
  },
  {
   "cell_type": "code",
   "execution_count": 70,
   "metadata": {},
   "outputs": [
    {
     "name": "stdout",
     "output_type": "stream",
     "text": [
      "Yes, there is dict type in values\n"
     ]
    }
   ],
   "source": [
    "d={\n",
    "    'name':'Malika',\n",
    "    'list':{'id1':11, 'id2':12},\n",
    "    'surname':'Ibadlayeva'\n",
    "}\n",
    "for i in d.values():\n",
    "    if(type(i)==dict):\n",
    "        print('Yes, there is dict type in values')\n",
    "        break\n",
    "\n"
   ]
  },
  {
   "cell_type": "markdown",
   "metadata": {},
   "source": [
    "17.Get Nested Value: Given a nested dictionary, retrieve a value from within one of the inner dictionaries."
   ]
  },
  {
   "cell_type": "code",
   "execution_count": 71,
   "metadata": {},
   "outputs": [
    {
     "data": {
      "text/plain": [
       "11"
      ]
     },
     "execution_count": 71,
     "metadata": {},
     "output_type": "execute_result"
    }
   ],
   "source": [
    "d={\n",
    "    'name':'Malika',\n",
    "    'list':{'id1':11, 'id2':12},\n",
    "    'surname':'Ibadlayeva'\n",
    "}\n",
    "d['list']['id1']"
   ]
  },
  {
   "cell_type": "markdown",
   "metadata": {},
   "source": [
    "18.Create Default Dictionary: Create a dictionary that provides a default value for missing keys."
   ]
  },
  {
   "cell_type": "code",
   "execution_count": 72,
   "metadata": {},
   "outputs": [
    {
     "data": {
      "text/plain": [
       "defaultdict(<function __main__.<lambda>()>, {'a': 1, 'b': 2, 'c': 0})"
      ]
     },
     "execution_count": 72,
     "metadata": {},
     "output_type": "execute_result"
    }
   ],
   "source": [
    "from collections import defaultdict\n",
    "d=defaultdict(lambda:0)\n",
    "d['a']=1\n",
    "d['b']=2\n",
    "d['c']\n",
    "d"
   ]
  },
  {
   "cell_type": "markdown",
   "metadata": {},
   "source": [
    "19.Count Unique Values: Given a dictionary, determine the number of unique values it contains."
   ]
  },
  {
   "cell_type": "code",
   "execution_count": 74,
   "metadata": {},
   "outputs": [
    {
     "data": {
      "text/plain": [
       "3"
      ]
     },
     "execution_count": 74,
     "metadata": {},
     "output_type": "execute_result"
    }
   ],
   "source": [
    "d={\n",
    "    'name':'Malika',\n",
    "    'surname':'Ibadlayeva',\n",
    "    'age':19,\n",
    "    'id':19\n",
    "}\n",
    "s=set(d.values())\n",
    "len(s)"
   ]
  },
  {
   "cell_type": "markdown",
   "metadata": {},
   "source": [
    "20.Sort Dictionary by Key: Create a new dictionary sorted by keys."
   ]
  },
  {
   "cell_type": "code",
   "execution_count": 79,
   "metadata": {},
   "outputs": [
    {
     "data": {
      "text/plain": [
       "{'age': 19, 'id': 19, 'name': 'Malika', 'surname': 'Ibadlayeva'}"
      ]
     },
     "execution_count": 79,
     "metadata": {},
     "output_type": "execute_result"
    }
   ],
   "source": [
    "d={\n",
    "    'name':'Malika',\n",
    "    'surname':'Ibadlayeva',\n",
    "    'age':19,\n",
    "    'id':19\n",
    "}\n",
    "d1={}\n",
    "l=[]\n",
    "for i in d.keys():\n",
    "    l.append(i)\n",
    "for i in sorted(l):\n",
    "    d1[i]=d[i]\n",
    "d1\n"
   ]
  },
  {
   "cell_type": "markdown",
   "metadata": {},
   "source": [
    "21.Sort Dictionary by Value: Create a new dictionary sorted by values."
   ]
  },
  {
   "cell_type": "code",
   "execution_count": 7,
   "metadata": {},
   "outputs": [
    {
     "data": {
      "text/plain": [
       "{'age': 'Ask', 'surname': 'Ibadlayeva', 'name': 'Malika'}"
      ]
     },
     "execution_count": 7,
     "metadata": {},
     "output_type": "execute_result"
    }
   ],
   "source": [
    "d={\n",
    "    'name':'Malika',\n",
    "    'surname':'Ibadlayeva',\n",
    "    'age':'Ask'\n",
    "}\n",
    "d1={}\n",
    "l1=[]\n",
    "l2=[]\n",
    "for key,value in d.items():\n",
    "    l1.append(key)\n",
    "    l2.append(value)\n",
    "s=sorted(l2)\n",
    "for i in range(len(l1)):\n",
    "    for j in range(len(l1)):\n",
    "        if d[l1[j]]==s[i]:\n",
    "            d1[l1[j]]=s[i]\n",
    "d1\n",
    "\n",
    "    \n"
   ]
  },
  {
   "cell_type": "markdown",
   "metadata": {},
   "source": [
    "22.Filter by Value: Given a dictionary, create a new dictionary that only includes items with values that meet a certain condition."
   ]
  },
  {
   "cell_type": "code",
   "execution_count": 9,
   "metadata": {},
   "outputs": [
    {
     "data": {
      "text/plain": [
       "{'d': 4, 'e': 5, 'f': 6}"
      ]
     },
     "execution_count": 9,
     "metadata": {},
     "output_type": "execute_result"
    }
   ],
   "source": [
    "d={\n",
    "    'a':1,\n",
    "    'b':2,\n",
    "    'c':3,\n",
    "    'd':4,\n",
    "    'e':5,\n",
    "    'f':6\n",
    "}\n",
    "d1={}\n",
    "for i in d.keys():\n",
    "    if(d[i]>3):\n",
    "        d1[i]=d[i]\n",
    "d1\n",
    "\n"
   ]
  },
  {
   "cell_type": "markdown",
   "metadata": {},
   "source": [
    "23.Check for Common Keys: Given two dictionaries, check if they have any keys in common."
   ]
  },
  {
   "cell_type": "code",
   "execution_count": 11,
   "metadata": {},
   "outputs": [
    {
     "data": {
      "text/plain": [
       "True"
      ]
     },
     "execution_count": 11,
     "metadata": {},
     "output_type": "execute_result"
    }
   ],
   "source": [
    "d1={\n",
    "    'a':1,\n",
    "    'b':2,\n",
    "    'c':3,\n",
    "    'd':4,\n",
    "    'e':5,\n",
    "    'f':6\n",
    "}\n",
    "d2={\n",
    "    'a':3,\n",
    "    'c':5,\n",
    "    'g':9\n",
    "}\n",
    "s1=set(d1.keys())\n",
    "s2=set(d2.keys())\n",
    "s1.intersection(s2)!=set()"
   ]
  },
  {
   "cell_type": "markdown",
   "metadata": {},
   "source": [
    "24.Create Dictionary from Tuple: Given a tuple of key-value pairs, create a dictionary from it."
   ]
  },
  {
   "cell_type": "code",
   "execution_count": 13,
   "metadata": {},
   "outputs": [
    {
     "data": {
      "text/plain": [
       "{'name': 'Malika', 'surname': 'Ibadlayeva', 'age': 19}"
      ]
     },
     "execution_count": 13,
     "metadata": {},
     "output_type": "execute_result"
    }
   ],
   "source": [
    "t=(('name', 'Malika'), ('surname','Ibadlayeva'),('age',19))\n",
    "d={}\n",
    "for i in t:\n",
    "    d[i[0]]=i[1]\n",
    "d"
   ]
  },
  {
   "cell_type": "markdown",
   "metadata": {},
   "source": [
    "25.Get the First Key-Value Pair: Retrieve the first key-value pair from a dictionary."
   ]
  },
  {
   "cell_type": "code",
   "execution_count": 21,
   "metadata": {},
   "outputs": [
    {
     "data": {
      "text/plain": [
       "('a', 1)"
      ]
     },
     "execution_count": 21,
     "metadata": {},
     "output_type": "execute_result"
    }
   ],
   "source": [
    "d1={\n",
    "    'a':1,\n",
    "    'b':2,\n",
    "    'c':3,\n",
    "    'd':4,\n",
    "    'e':5,\n",
    "    'f':6\n",
    "}\n",
    "l=[]\n",
    "for i in d1.items():\n",
    "    l.append(i)\n",
    "l[0]\n"
   ]
  },
  {
   "cell_type": "code",
   "execution_count": null,
   "metadata": {},
   "outputs": [],
   "source": []
  }
 ],
 "metadata": {
  "kernelspec": {
   "display_name": "Python 3",
   "language": "python",
   "name": "python3"
  },
  "language_info": {
   "codemirror_mode": {
    "name": "ipython",
    "version": 3
   },
   "file_extension": ".py",
   "mimetype": "text/x-python",
   "name": "python",
   "nbconvert_exporter": "python",
   "pygments_lexer": "ipython3",
   "version": "3.10.11"
  }
 },
 "nbformat": 4,
 "nbformat_minor": 2
}
