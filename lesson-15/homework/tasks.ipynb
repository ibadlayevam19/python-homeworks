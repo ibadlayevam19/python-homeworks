{
 "cells": [
  {
   "cell_type": "code",
   "execution_count": 1,
   "metadata": {},
   "outputs": [],
   "source": [
    "import numpy as np\n"
   ]
  },
  {
   "cell_type": "markdown",
   "metadata": {},
   "source": [
    "1. Create a vector with values ranging from 10 to 49."
   ]
  },
  {
   "cell_type": "code",
   "execution_count": 5,
   "metadata": {},
   "outputs": [
    {
     "data": {
      "text/plain": [
       "array([10, 11, 12, 13, 14, 15, 16, 17, 18, 19, 20, 21, 22, 23, 24, 25, 26,\n",
       "       27, 28, 29, 30, 31, 32, 33, 34, 35, 36, 37, 38, 39, 40, 41, 42, 43,\n",
       "       44, 45, 46, 47, 48, 49])"
      ]
     },
     "execution_count": 5,
     "metadata": {},
     "output_type": "execute_result"
    }
   ],
   "source": [
    "v=np.arange(10,50)\n",
    "v"
   ]
  },
  {
   "cell_type": "markdown",
   "metadata": {},
   "source": [
    "2. Create a 3x3 matrix with values ranging from 0 to 8."
   ]
  },
  {
   "cell_type": "code",
   "execution_count": 11,
   "metadata": {},
   "outputs": [
    {
     "data": {
      "text/plain": [
       "array([[0, 1, 2],\n",
       "       [3, 4, 5],\n",
       "       [6, 7, 8]])"
      ]
     },
     "execution_count": 11,
     "metadata": {},
     "output_type": "execute_result"
    }
   ],
   "source": [
    "m=np.arange(9).reshape(3,3) #first generate the matrix in given range and reshape it to given shape\n",
    "m"
   ]
  },
  {
   "cell_type": "markdown",
   "metadata": {},
   "source": [
    "3. Create a 3x3 identity matrix."
   ]
  },
  {
   "cell_type": "code",
   "execution_count": 16,
   "metadata": {},
   "outputs": [
    {
     "data": {
      "text/plain": [
       "array([[1., 0., 0.],\n",
       "       [0., 1., 0.],\n",
       "       [0., 0., 1.]])"
      ]
     },
     "execution_count": 16,
     "metadata": {},
     "output_type": "execute_result"
    }
   ],
   "source": [
    "i=np.eye(3,3)\n",
    "i"
   ]
  },
  {
   "cell_type": "markdown",
   "metadata": {},
   "source": [
    "4. Create a 3x3x3 array with random values."
   ]
  },
  {
   "cell_type": "code",
   "execution_count": 20,
   "metadata": {},
   "outputs": [
    {
     "data": {
      "text/plain": [
       "array([[[0.75927121, 0.74971179, 0.52710183],\n",
       "        [0.9542625 , 0.32115714, 0.20815502],\n",
       "        [0.64463151, 0.30087108, 0.22381138]],\n",
       "\n",
       "       [[0.46013347, 0.49116051, 0.25340444],\n",
       "        [0.91279214, 0.38577048, 0.69589671],\n",
       "        [0.57973216, 0.42847908, 0.25326558]],\n",
       "\n",
       "       [[0.55615452, 0.60751125, 0.00650345],\n",
       "        [0.41122905, 0.77526959, 0.32792067],\n",
       "        [0.04549735, 0.35030509, 0.5359219 ]]])"
      ]
     },
     "execution_count": 20,
     "metadata": {},
     "output_type": "execute_result"
    }
   ],
   "source": [
    "import random\n",
    "r=np.random.random((3,3,3)) # this gives random matrix, just one object should be given inside the function\n",
    "r"
   ]
  },
  {
   "cell_type": "markdown",
   "metadata": {},
   "source": [
    "5. Create a 10x10 array with random values and find the minimum and maximum values."
   ]
  },
  {
   "cell_type": "code",
   "execution_count": 22,
   "metadata": {},
   "outputs": [
    {
     "name": "stdout",
     "output_type": "stream",
     "text": [
      "[[0.30174323 0.52733632 0.58044035 0.96118219 0.53424822 0.79186392\n",
      "  0.81034627 0.65239815 0.44723773 0.33349527]\n",
      " [0.55049476 0.81042316 0.5042562  0.64549301 0.19267942 0.32477629\n",
      "  0.84284766 0.85582442 0.99116832 0.24839985]\n",
      " [0.86061499 0.06389256 0.99562477 0.37627018 0.19731972 0.75368846\n",
      "  0.85866493 0.12933482 0.33198841 0.03511593]\n",
      " [0.18583547 0.8521783  0.36263698 0.9151017  0.07551313 0.33472536\n",
      "  0.48716277 0.39653973 0.48292544 0.57624894]\n",
      " [0.9202335  0.52341457 0.18105411 0.61572911 0.20159576 0.12921041\n",
      "  0.96447484 0.74232348 0.26805052 0.56997752]\n",
      " [0.62638258 0.15620089 0.8630547  0.80209844 0.7935845  0.52264429\n",
      "  0.05153956 0.28224306 0.79719573 0.55227145]\n",
      " [0.7478184  0.06012464 0.10169291 0.6614669  0.98444381 0.26125127\n",
      "  0.33629644 0.78869304 0.91394367 0.96600528]\n",
      " [0.38074806 0.65480935 0.47643786 0.25389208 0.54100945 0.19129207\n",
      "  0.6133469  0.43542668 0.35475039 0.77572595]\n",
      " [0.6113112  0.80830342 0.65285531 0.44445844 0.93685743 0.181239\n",
      "  0.39586317 0.51345993 0.59574411 0.36061363]\n",
      " [0.31107868 0.53258603 0.82397281 0.41539919 0.99046723 0.58133846\n",
      "  0.07131625 0.36929664 0.32545061 0.37962599]]\n",
      "0.995624774763984\n",
      "0.03511593452056816\n"
     ]
    }
   ],
   "source": [
    "r=np.random.random((10,10))\n",
    "print(r)\n",
    "print(np.max(r))\n",
    "print(np.min(r))\n"
   ]
  },
  {
   "cell_type": "markdown",
   "metadata": {},
   "source": [
    "6. Create a random vector of size 30 and find the mean value."
   ]
  },
  {
   "cell_type": "code",
   "execution_count": 25,
   "metadata": {},
   "outputs": [
    {
     "name": "stdout",
     "output_type": "stream",
     "text": [
      "[0.39970791 0.21552418 0.65186141 0.45108156 0.51644546 0.21607939\n",
      " 0.66910678 0.51167762 0.93191284 0.96998927 0.61678802 0.06315801\n",
      " 0.80135409 0.40131912 0.75722655 0.5850366  0.78511102 0.20903789\n",
      " 0.34855257 0.0527526  0.91174029 0.9406146  0.61578723 0.51979427\n",
      " 0.56071841 0.70881785 0.51788993 0.43461384 0.21101181 0.10447984]\n",
      "0.5226396989068847\n"
     ]
    }
   ],
   "source": [
    "r=np.random.random(30)\n",
    "print(r)\n",
    "mean=np.sum(r)/30\n",
    "print(mean)"
   ]
  },
  {
   "cell_type": "markdown",
   "metadata": {},
   "source": [
    "7. Normalize a 5x5 random matrix."
   ]
  },
  {
   "cell_type": "code",
   "execution_count": 36,
   "metadata": {},
   "outputs": [
    {
     "name": "stdout",
     "output_type": "stream",
     "text": [
      "Original:\n",
      " [[98 20 29 50 13]\n",
      " [89 49 90 78 21]\n",
      " [26  4 50 67 59]\n",
      " [80 90 20 44 83]\n",
      " [ 0 10 50  5 83]]\n",
      "Normalized:\n",
      " [[1.         0.20408163 0.29591837 0.51020408 0.13265306]\n",
      " [0.90816327 0.5        0.91836735 0.79591837 0.21428571]\n",
      " [0.26530612 0.04081633 0.51020408 0.68367347 0.60204082]\n",
      " [0.81632653 0.91836735 0.20408163 0.44897959 0.84693878]\n",
      " [0.         0.10204082 0.51020408 0.05102041 0.84693878]]\n"
     ]
    }
   ],
   "source": [
    "r=np.random.random((5,5))\n",
    "r1=(r*100).astype(int) # this will make it integer\n",
    "print('Original:\\n',r1)\n",
    "normalized=(r1-np.min(r1))/(np.max(r1)-np.min(r1)) # this will normalize the matrix, scaling its values in range [0,1]\n",
    "print('Normalized:\\n',normalized)"
   ]
  },
  {
   "cell_type": "markdown",
   "metadata": {},
   "source": [
    "8. Multiply a 5x3 matrix by a 3x2 matrix (real matrix product)."
   ]
  },
  {
   "cell_type": "code",
   "execution_count": 98,
   "metadata": {},
   "outputs": [
    {
     "name": "stdout",
     "output_type": "stream",
     "text": [
      "Matrix n1 (5x3):\n",
      " [[8 8 0]\n",
      " [3 1 6]\n",
      " [6 1 3]\n",
      " [5 2 2]\n",
      " [7 7 4]] \n",
      "\n",
      "Matrix n2 (3x2):\n",
      " [[7 3]\n",
      " [1 7]\n",
      " [2 3]] \n",
      "\n",
      "Result of n1 @ n2 (5x2):\n",
      " [[64 80]\n",
      " [34 34]\n",
      " [49 34]\n",
      " [41 35]\n",
      " [64 82]]\n"
     ]
    }
   ],
   "source": [
    "r1=np.random.random((5,3))\n",
    "n1=(r1*10).astype(int)\n",
    "r2=np.random.random((3,2))\n",
    "n2=(r2*10).astype(int)\n",
    "\n",
    "#method1:\n",
    "#finding using several feature:\n",
    "print(\"Matrix n1 (5x3):\\n\", n1, '\\n')\n",
    "print(\"Matrix n2 (3x2):\\n\", n2, '\\n')\n",
    "\n",
    "n3=n2.transpose()\n",
    "n4=[i*n1 for i in n3] # list of two matrices\n",
    "n5=[i.transpose() for i in n4] # list of two transposed matrices\n",
    "m1=n5[0][0]+n5[0][1]+n5[0][2]\n",
    "m2=n5[1][0]+n5[1][1]+n5[1][2]\n",
    "arr=np.vstack((m1,m2)) # this will make two arrays just one array\n",
    "print(\"Result of n1 @ n2 (5x2):\\n\", arr.transpose())\n",
    "\n",
    "#method2:\n",
    "#finding using just one function:\n",
    "result = np.dot(n1, n2)\n",
    "\n",
    "print(\"Matrix n1 (5x3):\\n\", n1, '\\n')\n",
    "print(\"Matrix n2 (3x2):\\n\", n2, '\\n')\n",
    "print(\"Result of n1 @ n2 (5x2):\\n\", result)\n",
    "\n",
    "\n",
    "\n",
    "\n"
   ]
  },
  {
   "cell_type": "code",
   "execution_count": 99,
   "metadata": {},
   "outputs": [
    {
     "name": "stdout",
     "output_type": "stream",
     "text": [
      "Matrix n1 (5x3):\n",
      " [[8 8 0]\n",
      " [3 1 6]\n",
      " [6 1 3]\n",
      " [5 2 2]\n",
      " [7 7 4]] \n",
      "\n",
      "Matrix n2 (3x2):\n",
      " [[7 3]\n",
      " [1 7]\n",
      " [2 3]] \n",
      "\n",
      "Result of n1 @ n2 (5x2):\n",
      " [[64 80]\n",
      " [34 34]\n",
      " [49 34]\n",
      " [41 35]\n",
      " [64 82]]\n"
     ]
    }
   ],
   "source": [
    "#method2:\n",
    "#finding using just one function:\n",
    "result = np.dot(n1, n2)\n",
    "\n",
    "print(\"Matrix n1 (5x3):\\n\", n1, '\\n')\n",
    "print(\"Matrix n2 (3x2):\\n\", n2, '\\n')\n",
    "print(\"Result of n1 @ n2 (5x2):\\n\", result)\n"
   ]
  },
  {
   "cell_type": "markdown",
   "metadata": {},
   "source": [
    "9. Create two 3x3 matrices and compute their dot product."
   ]
  },
  {
   "cell_type": "code",
   "execution_count": 92,
   "metadata": {},
   "outputs": [
    {
     "name": "stdout",
     "output_type": "stream",
     "text": [
      "Matrix 1 (3x3):\n",
      " [[7 8 9]\n",
      " [2 2 7]\n",
      " [5 1 9]] \n",
      "\n",
      "Matrix 2 (3x3):\n",
      " [[6 1 3]\n",
      " [8 8 9]\n",
      " [5 8 2]] \n",
      "\n",
      "Dot product:\n",
      " [[151 143 111]\n",
      " [ 63  74  38]\n",
      " [ 83  85  42]]\n"
     ]
    }
   ],
   "source": [
    "m1=np.random.random((3,3))\n",
    "m11=(m1*10).astype(int)\n",
    "m2=np.random.random((3,3))\n",
    "m22=(m2*10).astype(int)\n",
    "res=np.dot(m11,m22) # their dot product\n",
    "print(\"Matrix 1 (3x3):\\n\", m11, '\\n')\n",
    "print(\"Matrix 2 (3x3):\\n\", m22, '\\n')\n",
    "print(\"Dot product:\\n\", res)\n"
   ]
  },
  {
   "cell_type": "markdown",
   "metadata": {},
   "source": [
    "10. Given a 4x4 matrix, find its transpose."
   ]
  },
  {
   "cell_type": "code",
   "execution_count": 95,
   "metadata": {},
   "outputs": [
    {
     "name": "stdout",
     "output_type": "stream",
     "text": [
      "Matrix:\n",
      " [[5 2 0 1]\n",
      " [1 6 2 3]\n",
      " [3 6 0 0]\n",
      " [4 4 0 6]]\n",
      "Its transpose:\n",
      " [[5 1 3 4]\n",
      " [2 6 6 4]\n",
      " [0 2 0 0]\n",
      " [1 3 0 6]]\n"
     ]
    }
   ],
   "source": [
    "m=np.random.random((4,4))\n",
    "m1=(m*10).astype(int)\n",
    "trans=m1.transpose() # transpose of it\n",
    "print(\"Matrix:\\n\", m1)\n",
    "print(\"Its transpose:\\n\", trans)"
   ]
  },
  {
   "cell_type": "markdown",
   "metadata": {},
   "source": [
    "11. Create a 3x3 matrix and calculate its determinant."
   ]
  },
  {
   "cell_type": "code",
   "execution_count": 114,
   "metadata": {},
   "outputs": [
    {
     "name": "stdout",
     "output_type": "stream",
     "text": [
      "[[3 0 1]\n",
      " [0 5 1]\n",
      " [6 4 1]]\n",
      "Determinant: -27\n"
     ]
    }
   ],
   "source": [
    "m=np.random.random((3,3))\n",
    "m1=(m*10).astype(int)\n",
    "print(m1)\n",
    "def cal_det_two(matrix):\n",
    "    det=matrix[0,0]*matrix[1,1]-matrix[0,1]*matrix[1,0]\n",
    "    return det\n",
    "first=m1[[1,2]][:,[1,2]]\n",
    "second=m1[[1,2]][:,[0,2]]\n",
    "third=m1[[1,2]][:,[0,1]]\n",
    "det=m1[0,0]*cal_det_two(first)-m1[0,1]*cal_det_two(second)+m1[0,2]*cal_det_two(third)\n",
    "print(\"Determinant:\", det)\n"
   ]
  },
  {
   "cell_type": "markdown",
   "metadata": {},
   "source": [
    "12. Create two matrices ( A ) (3x4) and ( B ) (4x3), and compute the matrix product ( A \\cdot B )."
   ]
  },
  {
   "cell_type": "code",
   "execution_count": 116,
   "metadata": {},
   "outputs": [
    {
     "name": "stdout",
     "output_type": "stream",
     "text": [
      "A:\n",
      " [[2 3 8 0]\n",
      " [1 6 9 2]\n",
      " [1 9 1 5]]\n",
      "B:\n",
      " [[5 4 7]\n",
      " [8 2 4]\n",
      " [1 7 1]\n",
      " [5 5 6]]\n",
      "Dot product:\n",
      " [[ 42  70  34]\n",
      " [ 72  89  52]\n",
      " [103  54  74]]\n"
     ]
    }
   ],
   "source": [
    "A=np.random.random((3,4))\n",
    "A1=(A*10).astype(int)\n",
    "B=np.random.random((4,3))\n",
    "B1=(B*10).astype(int)\n",
    "dot=np.dot(A1,B1)\n",
    "print(\"A:\\n\", A1)\n",
    "print(\"B:\\n\",B1)\n",
    "print(\"Dot product:\\n\", dot)"
   ]
  },
  {
   "cell_type": "markdown",
   "metadata": {},
   "source": [
    "13. Create a 3x3 random matrix and a 3-element column vector. Compute the matrix-vector product."
   ]
  },
  {
   "cell_type": "code",
   "execution_count": 124,
   "metadata": {},
   "outputs": [
    {
     "name": "stdout",
     "output_type": "stream",
     "text": [
      "A:\n",
      " [[2 4 8]\n",
      " [7 1 2]\n",
      " [3 1 8]]\n",
      "B:\n",
      " [[2]\n",
      " [7]\n",
      " [5]]\n",
      "Dot product:\n",
      " [[72]\n",
      " [31]\n",
      " [53]]\n"
     ]
    }
   ],
   "source": [
    "A=np.random.random((3,3))\n",
    "A1=(A*10).astype(int)\n",
    "B=np.random.random((3,1))\n",
    "B1=(B*10).astype(int)\n",
    "dot=np.dot(A1,B1)\n",
    "print(\"A:\\n\", A1)\n",
    "print(\"B:\\n\",B1)\n",
    "print(\"Dot product:\\n\", dot)"
   ]
  },
  {
   "cell_type": "markdown",
   "metadata": {},
   "source": [
    "14. Solve the linear system ( Ax = b ) where ( A ) is a 3x3 matrix, and ( b ) is a 3x1 column vector."
   ]
  },
  {
   "cell_type": "code",
   "execution_count": 125,
   "metadata": {},
   "outputs": [
    {
     "name": "stdout",
     "output_type": "stream",
     "text": [
      "A:\n",
      " [[0 2 6]\n",
      " [6 6 3]\n",
      " [1 3 5]]\n",
      "B:\n",
      " [[2]\n",
      " [2]\n",
      " [9]]\n",
      "Solution of Ax=b:\n",
      " [[-11.77777778]\n",
      " [ 14.33333333]\n",
      " [ -4.44444444]]\n"
     ]
    }
   ],
   "source": [
    "A=np.random.random((3,3))\n",
    "A1=(A*10).astype(int)\n",
    "B=np.random.random((3,1))\n",
    "B1=(B*10).astype(int)\n",
    "x=np.linalg.solve(A1,B1)\n",
    "print(\"A:\\n\", A1)\n",
    "print(\"B:\\n\",B1)\n",
    "print(\"Solution of Ax=b:\\n\", x)"
   ]
  },
  {
   "cell_type": "markdown",
   "metadata": {},
   "source": [
    "15. Given a 5x5 matrix, find the row-wise and column-wise sums."
   ]
  },
  {
   "cell_type": "code",
   "execution_count": 129,
   "metadata": {},
   "outputs": [
    {
     "name": "stdout",
     "output_type": "stream",
     "text": [
      "Matrix:\n",
      " [[7 1 4 0 8]\n",
      " [9 6 2 8 1]\n",
      " [9 6 5 1 2]\n",
      " [5 8 0 3 1]\n",
      " [2 4 0 0 4]]\n",
      "Row-wise:\n",
      " [20 26 23 17 10]\n",
      "col-wise:\n",
      " [32 25 11 12 16]\n"
     ]
    }
   ],
   "source": [
    "A=np.random.random((5,5))\n",
    "A1=(A*10).astype(int)\n",
    "row_wise=np.sum(A1, axis=1)\n",
    "col_wise=np.sum(A1,axis=0)\n",
    "print(\"Matrix:\\n\",A1)\n",
    "print(\"Row-wise:\\n\",row_wise)\n",
    "print(\"col-wise:\\n\",col_wise)"
   ]
  },
  {
   "cell_type": "code",
   "execution_count": 135,
   "metadata": {},
   "outputs": [
    {
     "data": {
      "text/plain": [
       "''"
      ]
     },
     "execution_count": 135,
     "metadata": {},
     "output_type": "execute_result"
    }
   ],
   "source": [
    "with open('sample1.txt','r') as file:\n",
    "    content=file.read()\n",
    "content\n"
   ]
  },
  {
   "cell_type": "code",
   "execution_count": null,
   "metadata": {},
   "outputs": [],
   "source": []
  }
 ],
 "metadata": {
  "kernelspec": {
   "display_name": "Python 3",
   "language": "python",
   "name": "python3"
  },
  "language_info": {
   "codemirror_mode": {
    "name": "ipython",
    "version": 3
   },
   "file_extension": ".py",
   "mimetype": "text/x-python",
   "name": "python",
   "nbconvert_exporter": "python",
   "pygments_lexer": "ipython3",
   "version": "3.10.11"
  }
 },
 "nbformat": 4,
 "nbformat_minor": 2
}
