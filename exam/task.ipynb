{
 "cells": [
  {
   "cell_type": "code",
   "execution_count": 1,
   "metadata": {},
   "outputs": [],
   "source": [
    "import requests"
   ]
  },
  {
   "cell_type": "code",
   "execution_count": 7,
   "metadata": {},
   "outputs": [
    {
     "data": {
      "text/plain": [
       "{'ok': True,\n",
       " 'result': {'id': 7661424696,\n",
       "  'is_bot': True,\n",
       "  'first_name': 'AutoSend',\n",
       "  'username': 'SendForever_bot',\n",
       "  'can_join_groups': True,\n",
       "  'can_read_all_group_messages': False,\n",
       "  'supports_inline_queries': False,\n",
       "  'can_connect_to_business': False,\n",
       "  'has_main_web_app': False}}"
      ]
     },
     "execution_count": 7,
     "metadata": {},
     "output_type": "execute_result"
    }
   ],
   "source": [
    "r=requests.get('https://api.telegram.org/bot7661424696:AAGZGNCClVLDHVIOJWQvlBGCPJngM_AnGTA/getMe')\n",
    "r.json()"
   ]
  },
  {
   "cell_type": "code",
   "execution_count": 22,
   "metadata": {},
   "outputs": [
    {
     "name": "stdout",
     "output_type": "stream",
     "text": [
      "{'ok': True, 'result': {'message_id': 5, 'sender_chat': {'id': -1002475497547, 'title': 'Finished books', 'username': 'MAABexam', 'type': 'channel'}, 'chat': {'id': -1002475497547, 'title': 'Finished books', 'username': 'MAABexam', 'type': 'channel'}, 'date': 1738319980, 'text': 'Dilnozaaa'}}\n"
     ]
    }
   ],
   "source": [
    "token='7661424696:AAGZGNCClVLDHVIOJWQvlBGCPJngM_AnGTA'\n",
    "id='@MAABexam'\n",
    "message='Dilnozaaa'\n",
    "url=f'https://api.telegram.org/bot{token}/sendMessage'\n",
    "payload={\n",
    "    'chat_id':id,\n",
    "    'text':message\n",
    "}\n",
    "response=requests.post(url, payload)\n",
    "print(response.json())\n"
   ]
  },
  {
   "cell_type": "code",
   "execution_count": 25,
   "metadata": {},
   "outputs": [
    {
     "data": {
      "text/plain": [
       "{'ok': True,\n",
       " 'result': [{'update_id': 747234034,\n",
       "   'channel_post': {'message_id': 2,\n",
       "    'sender_chat': {'id': -1002475497547,\n",
       "     'title': 'Finished books',\n",
       "     'type': 'channel'},\n",
       "    'chat': {'id': -1002475497547,\n",
       "     'title': 'Finished books',\n",
       "     'type': 'channel'},\n",
       "    'date': 1738317019,\n",
       "    'text': 'MAABexam'}},\n",
       "  {'update_id': 747234035,\n",
       "   'channel_post': {'message_id': 3,\n",
       "    'sender_chat': {'id': -1002475497547,\n",
       "     'title': 'Finished books',\n",
       "     'type': 'channel'},\n",
       "    'chat': {'id': -1002475497547,\n",
       "     'title': 'Finished books',\n",
       "     'type': 'channel'},\n",
       "    'date': 1738317024,\n",
       "    'text': '@MAABexam',\n",
       "    'entities': [{'offset': 0, 'length': 9, 'type': 'mention'}]}},\n",
       "  {'update_id': 747234036,\n",
       "   'message': {'message_id': 1,\n",
       "    'from': {'id': 1875793150,\n",
       "     'is_bot': False,\n",
       "     'first_name': 'Dilnoza',\n",
       "     'username': 'dilnoza_471',\n",
       "     'language_code': 'en'},\n",
       "    'chat': {'id': 1875793150,\n",
       "     'first_name': 'Dilnoza',\n",
       "     'username': 'dilnoza_471',\n",
       "     'type': 'private'},\n",
       "    'date': 1738317978,\n",
       "    'text': '/start',\n",
       "    'entities': [{'offset': 0, 'length': 6, 'type': 'bot_command'}]}},\n",
       "  {'update_id': 747234037,\n",
       "   'message': {'message_id': 2,\n",
       "    'from': {'id': 1875793150,\n",
       "     'is_bot': False,\n",
       "     'first_name': 'Dilnoza',\n",
       "     'username': 'dilnoza_471',\n",
       "     'language_code': 'en'},\n",
       "    'chat': {'id': 1875793150,\n",
       "     'first_name': 'Dilnoza',\n",
       "     'username': 'dilnoza_471',\n",
       "     'type': 'private'},\n",
       "    'date': 1738317984,\n",
       "    'text': 'Hey'}},\n",
       "  {'update_id': 747234038,\n",
       "   'message': {'message_id': 4,\n",
       "    'from': {'id': 1875793150,\n",
       "     'is_bot': False,\n",
       "     'first_name': 'Dilnoza',\n",
       "     'username': 'dilnoza_471',\n",
       "     'language_code': 'en'},\n",
       "    'chat': {'id': 1875793150,\n",
       "     'first_name': 'Dilnoza',\n",
       "     'username': 'dilnoza_471',\n",
       "     'type': 'private'},\n",
       "    'date': 1738318070,\n",
       "    'text': 'What up?'}},\n",
       "  {'update_id': 747234039,\n",
       "   'message': {'message_id': 5,\n",
       "    'from': {'id': 1875793150,\n",
       "     'is_bot': False,\n",
       "     'first_name': 'Dilnoza',\n",
       "     'username': 'dilnoza_471',\n",
       "     'language_code': 'en'},\n",
       "    'chat': {'id': 1875793150,\n",
       "     'first_name': 'Dilnoza',\n",
       "     'username': 'dilnoza_471',\n",
       "     'type': 'private'},\n",
       "    'date': 1738318396,\n",
       "    'text': '/start',\n",
       "    'entities': [{'offset': 0, 'length': 6, 'type': 'bot_command'}]}},\n",
       "  {'update_id': 747234040,\n",
       "   'message': {'message_id': 6,\n",
       "    'from': {'id': 1875793150,\n",
       "     'is_bot': False,\n",
       "     'first_name': 'Dilnoza',\n",
       "     'username': 'dilnoza_471',\n",
       "     'language_code': 'en'},\n",
       "    'chat': {'id': 1875793150,\n",
       "     'first_name': 'Dilnoza',\n",
       "     'username': 'dilnoza_471',\n",
       "     'type': 'private'},\n",
       "    'date': 1738318400,\n",
       "    'text': 'What up'}}]}"
      ]
     },
     "execution_count": 25,
     "metadata": {},
     "output_type": "execute_result"
    }
   ],
   "source": [
    "token='7661424696:AAGZGNCClVLDHVIOJWQvlBGCPJngM_AnGTA'\n",
    "res=requests.get(f'https://api.telegram.org/bot{token}/getUpdates')\n",
    "res.json()\n",
    "# dilnoza['result'][6:]"
   ]
  },
  {
   "cell_type": "code",
   "execution_count": 28,
   "metadata": {},
   "outputs": [
    {
     "data": {
      "text/plain": [
       "{'ok': True,\n",
       " 'result': {'message_id': 6,\n",
       "  'sender_chat': {'id': -1002475497547,\n",
       "   'title': 'Finished books',\n",
       "   'username': 'MAABexam',\n",
       "   'type': 'channel'},\n",
       "  'chat': {'id': -1002475497547,\n",
       "   'title': 'Finished books',\n",
       "   'username': 'MAABexam',\n",
       "   'type': 'channel'},\n",
       "  'date': 1738320541,\n",
       "  'photo': [{'file_id': 'AgACAgIAAyEGAASTjRhLAAMGZ5yqnJ8ekHVWaEITa4HBrEnZ-yQAAq3hMRttwOlIKWc3G_wXRoMBAAMCAANzAAM2BA',\n",
       "    'file_unique_id': 'AQADreExG23A6Uh4',\n",
       "    'file_size': 850,\n",
       "    'width': 90,\n",
       "    'height': 51},\n",
       "   {'file_id': 'AgACAgIAAyEGAASTjRhLAAMGZ5yqnJ8ekHVWaEITa4HBrEnZ-yQAAq3hMRttwOlIKWc3G_wXRoMBAAMCAANtAAM2BA',\n",
       "    'file_unique_id': 'AQADreExG23A6Uhy',\n",
       "    'file_size': 14138,\n",
       "    'width': 320,\n",
       "    'height': 180},\n",
       "   {'file_id': 'AgACAgIAAyEGAASTjRhLAAMGZ5yqnJ8ekHVWaEITa4HBrEnZ-yQAAq3hMRttwOlIKWc3G_wXRoMBAAMCAAN4AAM2BA',\n",
       "    'file_unique_id': 'AQADreExG23A6Uh9',\n",
       "    'file_size': 65904,\n",
       "    'width': 800,\n",
       "    'height': 450},\n",
       "   {'file_id': 'AgACAgIAAyEGAASTjRhLAAMGZ5yqnJ8ekHVWaEITa4HBrEnZ-yQAAq3hMRttwOlIKWc3G_wXRoMBAAMCAAN5AAM2BA',\n",
       "    'file_unique_id': 'AQADreExG23A6Uh-',\n",
       "    'file_size': 142202,\n",
       "    'width': 1280,\n",
       "    'height': 720},\n",
       "   {'file_id': 'AgACAgIAAyEGAASTjRhLAAMGZ5yqnJ8ekHVWaEITa4HBrEnZ-yQAAq3hMRttwOlIKWc3G_wXRoMBAAMCAAN3AAM2BA',\n",
       "    'file_unique_id': 'AQADreExG23A6Uh8',\n",
       "    'file_size': 238653,\n",
       "    'width': 1920,\n",
       "    'height': 1080}]}}"
      ]
     },
     "execution_count": 28,
     "metadata": {},
     "output_type": "execute_result"
    }
   ],
   "source": [
    "import pyautogui\n",
    "\n",
    "screen=pyautogui.screenshot()\n",
    "screen.save('screen.png')\n",
    "url=f'https://api.telegram.org/bot{token}/sendPhoto'\n",
    "files={'photo': open('screen.png', 'rb')}\n",
    "data={'chat_id': '-1002475497547'}\n",
    "res=requests.post(url, files=files, data=data)\n",
    "res.json()"
   ]
  },
  {
   "cell_type": "code",
   "execution_count": 2,
   "metadata": {},
   "outputs": [],
   "source": [
    "token='7661424696:AAGZGNCClVLDHVIOJWQvlBGCPJngM_AnGTA'\n",
    "data={'chat_id': '-1002475497547'}\n",
    "id='-1002475497547'\n",
    "from pdf2image import convert_from_path"
   ]
  },
  {
   "cell_type": "code",
   "execution_count": 11,
   "metadata": {},
   "outputs": [],
   "source": [
    "import pyautogui\n",
    "import time\n",
    "import requests\n",
    "import os\n",
    "import csv\n",
    "import glob\n",
    "from pdf2image import convert_from_path\n",
    "import shutil\n",
    "\n",
    "id='-1002475497547'\n",
    "token='7661424696:AAGZGNCClVLDHVIOJWQvlBGCPJngM_AnGTA'\n",
    "\n",
    "directory=\"C:/Users/ASUS/OneDrive/Рабочий стол/maab\" # to save the books \n",
    "sended_direc=\"C:/Users/ASUS/OneDrive/Рабочий стол/sended_books\" # to save the books that are sent\n",
    "csv_file_path=\"C:/Users/ASUS/OneDrive/Рабочий стол/book_status.csv\"\n",
    "\n",
    "if not os.path.exists(sended_direc):\n",
    "    os.makedirs(sended_direc)\n",
    "\n",
    "if not os.path.exists(csv_file_path):\n",
    "    with open(csv_file_path, 'w', newline='', encoding='utf-8') as file:\n",
    "        writer=csv.writer(file)\n",
    "        writer.writerow(['File Name', 'Status'])\n",
    "\n",
    "book_status={}\n",
    "\n",
    "with open(csv_file_path, 'r', newline='', encoding='utf-8') as file:\n",
    "    reader=csv.reader(file)\n",
    "    next(reader, None) #skipping the header\n",
    "    for row in reader:\n",
    "        if(len(row))==2:\n",
    "            book_status[row[0]]=row[1]\n",
    "\n",
    "file_types = ['*.pdf', '*.docx', '*.txt', '*.epub', '*.csv', '*.jpg', '*.png']\n",
    "files = [] # all books\n",
    "for file_type in file_types:\n",
    "    files.extend(glob.glob(os.path.join(directory, file_type)))\n",
    "\n",
    "for idx, i in enumerate(files):\n",
    "    file_name=os.path.basename(i)\n",
    "    file_size=os.path.getsize(i)/(1024*1024)\n",
    "    if file_name in book_status and book_status[file_name] == \"Sent\":\n",
    "        print(f\"{file_name} is already sent.\")\n",
    "        continue\n",
    "    url=f'https://api.telegram.org/bot{token}/sendPhoto'\n",
    "    url1=f'https://api.telegram.org/bot{token}/sendDocument'\n",
    "    if(file_size<=50):\n",
    "        if(i.endswith('.pdf')):\n",
    "            images=convert_from_path(i, dpi=200, poppler_path=\"C:/poppler/poppler-24.08.0/Library/bin\")\n",
    "            image_path=os.path.join(directory, f\"pdf_page{idx}.png\")\n",
    "            images[0].save(image_path, 'PNG')\n",
    "            with open(image_path, 'rb') as photo:\n",
    "                files={'photo': photo}\n",
    "                data={'chat_id': id}\n",
    "                response=requests.post(url, files=files, data=data)\n",
    "            if response.status_code==200:\n",
    "                mes_id=response.json()['result']['message_id']\n",
    "                os.remove(image_path)\n",
    "            else:\n",
    "                print(f\"Couldn't send image preview for {file_name}\")\n",
    "                mes_id = None\n",
    "        else:\n",
    "            mes_id=None\n",
    "\n",
    "        with open(i, 'rb') as doc:\n",
    "            files={'document':doc}\n",
    "            data={'chat_id': id}\n",
    "            if mes_id:\n",
    "                data['reply_to_message_id'] = mes_id\n",
    "            res2=requests.post(url1, files=files, data=data)\n",
    "\n",
    "        if(res2.status_code==200):\n",
    "            book_status[file_name]='Sent'\n",
    "            shutil.move(i, os.path.join(sended_direc, file_name))\n",
    "                \n",
    "        else:\n",
    "            book_status[file_name]='Not sent'\n",
    "            print(f\"couldn't send file: {i}\")\n",
    "            \n",
    "    \n",
    "with open(csv_file_path, 'w', newline='', encoding='utf-8') as file:\n",
    "    writer=csv.writer(file)\n",
    "    writer.writerow([\"File Name\", \"Status\"])\n",
    "    for book , status in book_status.items():\n",
    "        writer.writerow([book, status])\n",
    "\n",
    "    \n",
    "\n",
    "\n"
   ]
  },
  {
   "cell_type": "code",
   "execution_count": 8,
   "metadata": {},
   "outputs": [
    {
     "data": {
      "text/plain": [
       "0.6666666666666666"
      ]
     },
     "execution_count": 8,
     "metadata": {},
     "output_type": "execute_result"
    }
   ],
   "source": []
  },
  {
   "cell_type": "code",
   "execution_count": null,
   "metadata": {},
   "outputs": [],
   "source": []
  }
 ],
 "metadata": {
  "kernelspec": {
   "display_name": "Python 3",
   "language": "python",
   "name": "python3"
  },
  "language_info": {
   "codemirror_mode": {
    "name": "ipython",
    "version": 3
   },
   "file_extension": ".py",
   "mimetype": "text/x-python",
   "name": "python",
   "nbconvert_exporter": "python",
   "pygments_lexer": "ipython3",
   "version": "3.10.11"
  }
 },
 "nbformat": 4,
 "nbformat_minor": 2
}
