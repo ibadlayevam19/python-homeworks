{
 "cells": [
  {
   "cell_type": "code",
   "execution_count": 3,
   "metadata": {},
   "outputs": [
    {
     "ename": "ModuleNotFoundError",
     "evalue": "No module named 'matplotlib'",
     "output_type": "error",
     "traceback": [
      "\u001b[1;31m---------------------------------------------------------------------------\u001b[0m",
      "\u001b[1;31mModuleNotFoundError\u001b[0m                       Traceback (most recent call last)",
      "Cell \u001b[1;32mIn[3], line 1\u001b[0m\n\u001b[1;32m----> 1\u001b[0m \u001b[38;5;28;01mimport\u001b[39;00m \u001b[38;5;21;01mmatplotlib\u001b[39;00m\n\u001b[0;32m      2\u001b[0m \u001b[38;5;28;01mimport\u001b[39;00m \u001b[38;5;21;01mnumpy\u001b[39;00m \u001b[38;5;28;01mas\u001b[39;00m \u001b[38;5;21;01mnp\u001b[39;00m\n\u001b[0;32m      3\u001b[0m \u001b[38;5;28;01mimport\u001b[39;00m \u001b[38;5;21;01mmatplotlib\u001b[39;00m\u001b[38;5;21;01m.\u001b[39;00m\u001b[38;5;21;01mpyplot\u001b[39;00m \u001b[38;5;28;01mas\u001b[39;00m \u001b[38;5;21;01mplt\u001b[39;00m\n",
      "\u001b[1;31mModuleNotFoundError\u001b[0m: No module named 'matplotlib'"
     ]
    }
   ],
   "source": [
    "import matplotlib\n",
    "import numpy as np\n",
    "import matplotlib.pyplot as plt\n",
    "from mpl_toolkits.mplot3d import Axes3D\n",
    "# 1. Basic Plotting\n",
    "x = np.linspace(-10, 10, 400)\n",
    "y = x**2 - 4*x + 4\n",
    "plt.figure()\n",
    "plt.plot(x, y, label='f(x) = x^2 - 4x + 4', color='b')\n",
    "plt.xlabel('x')\n",
    "plt.ylabel('f(x)')\n",
    "plt.title('Quadratic Function')\n",
    "plt.legend()\n",
    "plt.grid()\n",
    "plt.show()"
   ]
  },
  {
   "cell_type": "code",
   "execution_count": null,
   "metadata": {},
   "outputs": [],
   "source": [
    "# 2. Sine and Cosine Plot\n",
    "x = np.linspace(0, 2*np.pi, 100)\n",
    "plt.figure()\n",
    "plt.plot(x, np.sin(x), 'r-', label='sin(x)')\n",
    "plt.plot(x, np.cos(x), 'b--', label='cos(x)')\n",
    "plt.xlabel('x')\n",
    "plt.ylabel('Value')\n",
    "plt.title('Sine and Cosine Functions')\n",
    "plt.legend()\n",
    "plt.grid()\n",
    "plt.show()"
   ]
  },
  {
   "cell_type": "code",
   "execution_count": null,
   "metadata": {},
   "outputs": [],
   "source": [
    "# 3. Subplots\n",
    "x = np.linspace(-2, 2, 100)\n",
    "fig, axs = plt.subplots(2, 2, figsize=(10, 8))\n",
    "axs[0, 0].plot(x, x**3, 'g')\n",
    "axs[0, 0].set_title('f(x) = x^3')\n",
    "axs[0, 1].plot(x, np.sin(x), 'r')\n",
    "axs[0, 1].set_title('f(x) = sin(x)')\n",
    "axs[1, 0].plot(x, np.exp(x), 'b')\n",
    "axs[1, 0].set_title('f(x) = e^x')\n",
    "x_log = np.linspace(0, 2, 100)\n",
    "axs[1, 1].plot(x_log, np.log(x_log + 1), 'm')\n",
    "axs[1, 1].set_title('f(x) = log(x+1)')\n",
    "for ax in axs.flat:\n",
    "    ax.set_xlabel('x')\n",
    "    ax.set_ylabel('f(x)')\n",
    "    ax.grid()\n",
    "plt.tight_layout()\n",
    "plt.show()"
   ]
  },
  {
   "cell_type": "code",
   "execution_count": null,
   "metadata": {},
   "outputs": [],
   "source": [
    "# 4. Scatter Plot\n",
    "x = np.random.uniform(0, 10, 100)\n",
    "y = np.random.uniform(0, 10, 100)\n",
    "plt.figure()\n",
    "plt.scatter(x, y, c=np.random.rand(100), marker='o', alpha=0.7)\n",
    "plt.xlabel('X-axis')\n",
    "plt.ylabel('Y-axis')\n",
    "plt.title('Scatter Plot of Random Points')\n",
    "plt.grid()\n",
    "plt.show()"
   ]
  },
  {
   "cell_type": "code",
   "execution_count": null,
   "metadata": {},
   "outputs": [],
   "source": [
    "# 5. Histogram\n",
    "data = np.random.normal(0, 1, 1000)\n",
    "plt.figure()\n",
    "plt.hist(data, bins=30, alpha=0.7, color='purple', edgecolor='black')\n",
    "plt.xlabel('Value')\n",
    "plt.ylabel('Frequency')\n",
    "plt.title('Histogram of Normally Distributed Data')\n",
    "plt.grid()\n",
    "plt.show()"
   ]
  },
  {
   "cell_type": "code",
   "execution_count": null,
   "metadata": {},
   "outputs": [],
   "source": [
    "# 6. 3D Plotting\n",
    "x = np.linspace(-5, 5, 50)\n",
    "y = np.linspace(-5, 5, 50)\n",
    "X, Y = np.meshgrid(x, y)\n",
    "Z = np.cos(X**2 + Y**2)\n",
    "fig = plt.figure()\n",
    "ax = fig.add_subplot(111, projection='3d')\n",
    "surf = ax.plot_surface(X, Y, Z, cmap='viridis')\n",
    "fig.colorbar(surf)\n",
    "ax.set_xlabel('X-axis')\n",
    "ax.set_ylabel('Y-axis')\n",
    "ax.set_zlabel('f(x,y)')\n",
    "ax.set_title('3D Surface Plot: cos(x^2 + y^2)')\n",
    "plt.show()"
   ]
  },
  {
   "cell_type": "code",
   "execution_count": null,
   "metadata": {},
   "outputs": [],
   "source": [
    "# 7. Bar Chart\n",
    "products = ['Product A', 'Product B', 'Product C', 'Product D', 'Product E']\n",
    "sales = [200, 150, 250, 175, 225]\n",
    "plt.figure()\n",
    "plt.bar(products, sales, color=['red', 'blue', 'green', 'orange', 'purple'])\n",
    "plt.xlabel('Products')\n",
    "plt.ylabel('Sales')\n",
    "plt.title('Sales Data')\n",
    "plt.show()"
   ]
  },
  {
   "cell_type": "code",
   "execution_count": null,
   "metadata": {},
   "outputs": [],
   "source": [
    "# 8. Stacked Bar Chart\n",
    "time_periods = ['T1', 'T2', 'T3', 'T4']\n",
    "data_A = [5, 7, 8, 6]\n",
    "data_B = [3, 6, 4, 5]\n",
    "data_C = [4, 5, 7, 8]\n",
    "plt.figure()\n",
    "plt.bar(time_periods, data_A, label='Category A', color='r')\n",
    "plt.bar(time_periods, data_B, bottom=data_A, label='Category B', color='b')\n",
    "plt.bar(time_periods, data_C, bottom=np.array(data_A) + np.array(data_B), label='Category C', color='g')\n",
    "plt.xlabel('Time Periods')\n",
    "plt.ylabel('Values')\n",
    "plt.title('Stacked Bar Chart')\n",
    "plt.legend()\n",
    "plt.show()"
   ]
  }
 ],
 "metadata": {
  "kernelspec": {
   "display_name": "Python 3",
   "language": "python",
   "name": "python3"
  },
  "language_info": {
   "codemirror_mode": {
    "name": "ipython",
    "version": 3
   },
   "file_extension": ".py",
   "mimetype": "text/x-python",
   "name": "python",
   "nbconvert_exporter": "python",
   "pygments_lexer": "ipython3",
   "version": "3.10.11"
  }
 },
 "nbformat": 4,
 "nbformat_minor": 2
}
