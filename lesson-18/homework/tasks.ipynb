{
 "cells": [
  {
   "cell_type": "code",
   "execution_count": null,
   "metadata": {},
   "outputs": [],
   "source": [
    "import sqlite3\n",
    "import pandas as pd\n",
    "# Part 1: Reading Files\n",
    "\n",
    "\n",
    "conn = sqlite3.connect('chinook.db')\n",
    "cust_df = pd.read_sql_query(\"SELECT * FROM customers\", conn)\n",
    "print(cust_df.head(10))\n",
    "conn.close()\n",
    "\n",
    "\n",
    "iris_df = pd.read_json('iris.json')\n",
    "print(\"Shape:\", iris_df.shape)\n",
    "print(\"Columns:\", iris_df.columns.tolist())\n",
    "\n",
    "\n",
    "titanic_df = pd.read_excel('titanic.xlsx')\n",
    "print(titanic_df.head())\n",
    "\n",
    "\n",
    "flights_df = pd.read_parquet('flights.parquet')\n",
    "print(flights_df.info())\n",
    "\n",
    "\n",
    "movie_df = pd.read_csv('movie.csv')\n",
    "print(movie_df.sample(10))"
   ]
  },
  {
   "cell_type": "code",
   "execution_count": null,
   "metadata": {},
   "outputs": [],
   "source": [
    "# Part 2: Exploring DataFrames\n",
    "\n",
    "iris_df.columns = iris_df.columns.str.lower()\n",
    "print(iris_df[['sepal_length', 'sepal_width']])\n",
    "\n",
    "titanic_over_30 = titanic_df[titanic_df['Age'] > 30]\n",
    "print(titanic_over_30)\n",
    "\n",
    "gender_counts = titanic_df['Sex'].value_counts()\n",
    "print(gender_counts)\n",
    "\n",
    "print(flights_df[['origin', 'dest', 'carrier']])\n",
    "\n",
    "unique_destinations = flights_df['dest'].nunique()\n",
    "print(\"Unique Destinations:\", unique_destinations)\n",
    "\n",
    "long_movies = movie_df[movie_df['duration'] > 120]\n",
    "\n",
    "sorted_movies = long_movies.sort_values(by='director_facebook_likes', ascending=False)\n",
    "print(sorted_movies)"
   ]
  },
  {
   "cell_type": "code",
   "execution_count": null,
   "metadata": {},
   "outputs": [],
   "source": [
    "# Part 3: Challenges and Explorations\n",
    "\n",
    "iris_stats = iris_df.describe()\n",
    "print(iris_stats)\n",
    "\n",
    "age_min = titanic_df['Age'].min()\n",
    "age_max = titanic_df['Age'].max()\n",
    "age_sum = titanic_df['Age'].sum()\n",
    "print(f\"Min Age: {age_min}, Max Age: {age_max}, Sum Age: {age_sum}\")\n",
    "\n",
    "most_liked_director = movie_df.groupby('director_name')['director_facebook_likes'].sum().idxmax()\n",
    "print(\"Most Liked Director:\", most_liked_director)\n",
    "\n",
    "longest_movies = movie_df.nlargest(5, 'duration')[['title', 'director_name']]\n",
    "print(longest_movies)\n",
    "\n",
    "missing_values = flights_df.isnull().sum()\n",
    "print(\"Missing Values:\", missing_values)\n",
    "\n",
    "flights_df.fillna(flights_df.mean(), inplace=True)"
   ]
  }
 ],
 "metadata": {
  "language_info": {
   "name": "python"
  }
 },
 "nbformat": 4,
 "nbformat_minor": 2
}
