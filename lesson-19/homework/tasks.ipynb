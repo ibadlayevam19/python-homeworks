{
 "cells": [
  {
   "cell_type": "code",
   "execution_count": null,
   "metadata": {},
   "outputs": [],
   "source": [
    "import sqlite3\n",
    "import pandas as pd\n",
    "import numpy as np\n",
    "\n",
    "# Merging and Joining\n",
    "# Inner Join on Chinook Database\n",
    "conn = sqlite3.connect('chinook.db')\n",
    "customers_df = pd.read_sql_query(\"SELECT * FROM customers\", conn)\n",
    "invoices_df = pd.read_sql_query(\"SELECT * FROM invoices\", conn)\n",
    "conn.close()\n",
    "\n",
    "merged_df = customers_df.merge(invoices_df, on='CustomerId', how='inner')\n",
    "total_invoices = merged_df.groupby('CustomerId').size().reset_index(name='Total_Invoices')\n",
    "print(total_invoices)"
   ]
  },
  {
   "cell_type": "code",
   "execution_count": null,
   "metadata": {},
   "outputs": [],
   "source": [
    "# Outer Join on Movie Data\n",
    "movie_df = pd.read_csv('movie.csv')\n",
    "df1 = movie_df[['director_name', 'color']]\n",
    "df2 = movie_df[['director_name', 'num_critic_for_reviews']]\n",
    "\n",
    "left_join_df = df1.merge(df2, on='director_name', how='left')\n",
    "full_outer_join_df = df1.merge(df2, on='director_name', how='outer')\n",
    "\n",
    "print(\"Left Join Rows:\", len(left_join_df))\n",
    "print(\"Full Outer Join Rows:\", len(full_outer_join_df))"
   ]
  },
  {
   "cell_type": "code",
   "execution_count": null,
   "metadata": {},
   "outputs": [],
   "source": [
    "# Grouping and Aggregating\n",
    "# Grouped Aggregations on Titanic\n",
    "titanic_df = pd.read_excel('titanic.xlsx')\n",
    "grouped_titanic = titanic_df.groupby('Pclass').agg({'Age': 'mean', 'Fare': 'sum', 'PassengerId': 'count'}).reset_index()\n",
    "print(grouped_titanic)\n"
   ]
  },
  {
   "cell_type": "code",
   "execution_count": null,
   "metadata": {},
   "outputs": [],
   "source": [
    "# Multi-level Grouping on Movie Data\n",
    "grouped_movies = movie_df.groupby(['color', 'director_name']).agg({'num_critic_for_reviews': 'sum', 'duration': 'mean'}).reset_index()\n",
    "print(grouped_movies)\n"
   ]
  },
  {
   "cell_type": "code",
   "execution_count": null,
   "metadata": {},
   "outputs": [],
   "source": [
    "# Nested Grouping on Flights\n",
    "flights_df = pd.read_parquet('flights.parquet')\n",
    "nested_group_flights = flights_df.groupby(['Year', 'Month']).agg({'FlightNum': 'count', 'ArrDelay': 'mean', 'DepDelay': 'max'}).reset_index()\n",
    "print(nested_group_flights)"
   ]
  },
  {
   "cell_type": "code",
   "execution_count": null,
   "metadata": {},
   "outputs": [],
   "source": [
    "# Applying Functions\n",
    "\n",
    "# Apply a Custom Function on Titanic\n",
    "def classify_age(age):\n",
    "    return 'Child' if age < 18 else 'Adult'\n",
    "\n",
    "titanic_df['Age_Group'] = titanic_df['Age'].apply(classify_age)\n",
    "print(titanic_df[['Age', 'Age_Group']].head())"
   ]
  },
  {
   "cell_type": "code",
   "execution_count": null,
   "metadata": {},
   "outputs": [],
   "source": [
    "# Normalize Employee Salaries\n",
    "employee_df = pd.read_csv('employee.csv')\n",
    "employee_df['Normalized_Salary'] = employee_df.groupby('Department')['Salary'].transform(lambda x: (x - x.min()) / (x.max() - x.min()))\n",
    "print(employee_df)"
   ]
  },
  {
   "cell_type": "code",
   "execution_count": null,
   "metadata": {},
   "outputs": [],
   "source": [
    "# Custom Function on Movies\n",
    "def classify_duration(duration):\n",
    "    if duration < 60:\n",
    "        return 'Short'\n",
    "    elif 60 <= duration <= 120:\n",
    "        return 'Medium'\n",
    "    else:\n",
    "        return 'Long'\n",
    "movie_df['Duration_Category'] = movie_df['duration'].apply(classify_duration)\n",
    "print(movie_df[['duration', 'Duration_Category']].head())"
   ]
  },
  {
   "cell_type": "code",
   "execution_count": null,
   "metadata": {},
   "outputs": [],
   "source": [
    "# Using pipe\n",
    "\n",
    "# Pipeline on Titanic\n",
    "def titanic_pipeline(df):\n",
    "    return (\n",
    "        df[df['Survived'] == 1]\n",
    "        .assign(Age=lambda x: x['Age'].fillna(x['Age'].mean()))\n",
    "        .assign(Fare_Per_Age=lambda x: x['Fare'] / x['Age'])\n",
    "    )\n",
    "\n",
    "titanic_df = titanic_pipeline(titanic_df)\n",
    "print(titanic_df.head())"
   ]
  },
  {
   "cell_type": "code",
   "execution_count": null,
   "metadata": {},
   "outputs": [],
   "source": [
    "# Pipeline on Flights\n",
    "def flights_pipeline(df):\n",
    "    return (\n",
    "        df[df['DepDelay'] > 30]\n",
    "        .assign(Delay_Per_Hour=lambda x: x['DepDelay'] / x['CRSElapsedTime'])\n",
    "    )\n",
    "\n",
    "flights_df = flights_pipeline(flights_df)\n",
    "print(flights_df.head())"
   ]
  }
 ],
 "metadata": {
  "language_info": {
   "name": "python"
  }
 },
 "nbformat": 4,
 "nbformat_minor": 2
}
